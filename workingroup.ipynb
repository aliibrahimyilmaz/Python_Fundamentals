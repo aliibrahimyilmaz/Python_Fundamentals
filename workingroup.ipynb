{
 "cells": [
  {
   "cell_type": "code",
   "execution_count": null,
   "metadata": {},
   "outputs": [],
   "source": [
    "# 1).format kullanarak \"I am ...... and I am ......yars old.\" çıktısı alalım"
   ]
  },
  {
   "cell_type": "code",
   "execution_count": null,
   "metadata": {
    "tags": []
   },
   "outputs": [],
   "source": [
    "age = input(\"write your age\")\n",
    "name = input(\"write your name\")\n",
    "\n",
    "output = \"      \".format()\n",
    "\n",
    "print(output)"
   ]
  },
  {
   "cell_type": "code",
   "execution_count": 2,
   "metadata": {
    "tags": []
   },
   "outputs": [
    {
     "name": "stdout",
     "output_type": "stream",
     "text": [
      "write your age 34\n",
      "write your name ali\n",
      "I am Ali and I am 34 years old\n"
     ]
    }
   ],
   "source": [
    "age = input(\"write your age \")\n",
    "name = input(\"write your name \")\n",
    "\n",
    "output = \"I am {} and I am {} years old\".format(name.capitalize(), age)\n",
    "\n",
    "print(output)\n"
   ]
  },
  {
   "cell_type": "code",
   "execution_count": null,
   "metadata": {},
   "outputs": [],
   "source": [
    "#2) liste biraz karışmış sanki!!! \n",
    "# mevsimlerle ayları doğru eşleştiren ve yazım kurallarına uygun bir çıktı alalım\n",
    "# örnek : \"Winter months are ....... \"\n",
    "\n",
    "\n",
    "month = [\"january\", [\"sumMER\", \"February\"], [\"april\", \"mAy\"], [[\"AUtumn\",\"JUNE\",\"jULY\"], \"august\"]] \n",
    "\n",
    "season = [[\"october \", \"September\"],[[\"spring\", \"maRCH\"], \"November\", \"winTER\", \"december\"]]\n",
    "\n"
   ]
  },
  {
   "cell_type": "code",
   "execution_count": null,
   "metadata": {},
   "outputs": [],
   "source": []
  },
  {
   "cell_type": "code",
   "execution_count": 4,
   "metadata": {},
   "outputs": [],
   "source": [
    "#3)\n",
    "sentence_1 = (\"Beniccc korkutanccc\")\n",
    "sentence_2 = (\"ccckötülerincccc\")\n",
    "sentence_3 = [[\"baskısı\"],[\"değil\", \"iyilerin\"], \"ccckayıtsızlığı.\"]\n",
    "sentence_4 = \"– Martin Luther King\""
   ]
  },
  {
   "cell_type": "code",
   "execution_count": 7,
   "metadata": {},
   "outputs": [
    {
     "name": "stdout",
     "output_type": "stream",
     "text": [
      "Beni korkutan kötülerin baskısı değil iyilerin kayıtsızlığı. – Martin Luther King\n"
     ]
    }
   ],
   "source": [
    "sentence_1b = sentence_1.replace(\"c\", \"\")\n",
    "sentence_2b = sentence_2.strip(\"ccc\")\n",
    "output = \"{} {} {} {} {} {} {}\".format(sentence_1b, sentence_2b, sentence_3[0][0], \\\n",
    "                               sentence_3[1][0], sentence_3[1][1],\\\n",
    "                               sentence_3[2].lstrip(\"ccc\"), sentence_4)\n",
    "print(output)"
   ]
  },
  {
   "cell_type": "code",
   "execution_count": null,
   "metadata": {},
   "outputs": [],
   "source": [
    "s_1 = (\"Beniccc korkutanccc\")\n",
    "s_2 = (\"ccckötülerincccc\")\n",
    "s_3 = [[\"baskısı\"],[\"değil\", \"iyilerin\"], \"ccckayıtsızlığı.\"]\n",
    "s_4 = \"– Martin Luther King\"\n",
    "print(s_1[:4], s_1[8:16], s_2[3:12], s_3[0][0],s_3[1][0], s_3[1][1],s_3[2][3:], s_4 )"
   ]
  },
  {
   "cell_type": "code",
   "execution_count": null,
   "metadata": {},
   "outputs": [],
   "source": [
    "# 4) 8 den başlayarak 3'er 3'er 101' kadar olan sayıların çıktısını alalım"
   ]
  },
  {
   "cell_type": "code",
   "execution_count": 9,
   "metadata": {},
   "outputs": [
    {
     "name": "stdout",
     "output_type": "stream",
     "text": [
      "[8, 11, 14, 17, 20, 23, 26, 29, 32, 35, 38, 41, 44, 47, 50, 53, 56, 59, 62, 65, 68, 71, 74, 77, 80, 83, 86, 89, 92, 95, 98, 101]\n"
     ]
    }
   ],
   "source": [
    "x = list(range(8,102,3))\n",
    "print(x)"
   ]
  },
  {
   "cell_type": "code",
   "execution_count": null,
   "metadata": {},
   "outputs": [],
   "source": []
  },
  {
   "cell_type": "code",
   "execution_count": null,
   "metadata": {},
   "outputs": [],
   "source": [
    "# 5)\n",
    "# istanbul 15519267\n",
    "# Ankara 5639076\n",
    "# izmir 4367251\n",
    "# Bursa 3056120\n",
    "# Antalya 2511700\n",
    "\n",
    "# Belirtilen illeri içeren bir dictionary yapıp İzmir'in nüfusunu gösterelim."
   ]
  },
  {
   "cell_type": "code",
   "execution_count": 27,
   "metadata": {},
   "outputs": [
    {
     "name": "stdout",
     "output_type": "stream",
     "text": [
      "15519267\n"
     ]
    }
   ],
   "source": [
    "sehir = dict(istanbul=15519267, Ankara=5639076, izmir=4367251, Bursa=3056120,\\\n",
    "             Antalya=2511700)\n",
    "print(sehir[\"istanbul\"])"
   ]
  },
  {
   "cell_type": "code",
   "execution_count": null,
   "metadata": {},
   "outputs": [],
   "source": [
    "#6)\n",
    "# Yeni sayıma göre en yüksek nüfusa sahip ilk 5 ilde değişiklik olmuştur. buna göre yaptığımız dictionary'i güncelliyelim.\n",
    "\n",
    "# istanbul 15519267\n",
    "# Ankara   6000000\n",
    "# izmir    4367251\n",
    "# Bursa    3056120\n",
    "# Adana    2600000\n"
   ]
  },
  {
   "cell_type": "code",
   "execution_count": null,
   "metadata": {},
   "outputs": [],
   "source": [
    "# 7)\n",
    "# basketbol kursu:  Ahmet, Hasan, Cenk, Filiz, Gökhan, Sema, Kaan\n",
    "# voleybol kursu: Melek, Özlem, Alper, Sema, Cenk, Filiz, Gülhan\n",
    "# futbol kursu : Ahmet, Kaan, Mustafa, Doğukan, Umut, Yasin, Gülhan, Nesrin\n",
    "# tenis kursu : Gökhan, Özlem, Doğukan, Sinan\n",
    "\n",
    "# 6/A şubesindeki tüm öğrenciler en az bir spor kursunu takip etmektedir. Buna göre 6/A sınıfı kaç kişidir."
   ]
  },
  {
   "cell_type": "code",
   "execution_count": null,
   "metadata": {},
   "outputs": [],
   "source": []
  },
  {
   "cell_type": "code",
   "execution_count": null,
   "metadata": {},
   "outputs": [],
   "source": [
    "# 8)\n",
    "# basketbol kursu:  Ahmet, Hasan, Cenk, Filiz, Gökhan, Sema, Kaan\n",
    "# voleybol kursu: Melek, Özlem, Alper, Sema, Cenk, Filiz, Gülhan\n",
    "# futbol kursu : Ahmet, Kaan, Mustafa, Doğukan, Umut, Yasin, Gülhan, Nesrin\n",
    "# tenis kursu : Gökhan, Özlem, Doğukan, Sinan\n",
    "\n",
    "# 6/A şubesindeki tüm öğrenciler en az bir spor kursunu takip etmektedir. Buna göre 6/A sınıfında basketbol kursu\n",
    "# görenlerden kaç kişi futbol kursuna da gitmektedir?"
   ]
  },
  {
   "cell_type": "code",
   "execution_count": null,
   "metadata": {},
   "outputs": [],
   "source": [
    "# 9)\n",
    "# basketbol kursu:  Ahmet, Hasan, Cenk, Filiz, Gökhan, Sema, Kaan\n",
    "# voleybol kursu: Melek, Özlem, Alper, Sema, Cenk, Filiz, Gülhan\n",
    "# futbol kursu : Ahmet, Kaan, Mustafa, Doğukan, Umut, Yasin, Gülhan, Nesrin\n",
    "# tenis kursu : Gökhan, Özlem, Doğukan, Sinan\n",
    "\n",
    "# 6/A şubesindeki tüm öğrenciler en az bir spor kursunu takip etmektedir. \n",
    "# Buna göre 6/A sınıfında sadece bir spor  kursu takip eden öğrenciler  kimlerdir?"
   ]
  },
  {
   "cell_type": "code",
   "execution_count": null,
   "metadata": {},
   "outputs": [],
   "source": []
  },
  {
   "cell_type": "code",
   "execution_count": null,
   "metadata": {},
   "outputs": [],
   "source": [
    "# 10)\n",
    "# Havaalanında bagaj ücreti belirleme :\n",
    "\n",
    "# ağırlık 20 kg veya altında ise \"bagajınız ücretsizdir.\"\n",
    "# ağırlık 21-30 kg arasında ise \"bagaj ücretiniz 10$'dır.\"\n",
    "# ağırlık 30 kg'dan büyük ise \"bagaj ücretiniz 25$'dır.'\""
   ]
  }
 ],
 "metadata": {
  "kernelspec": {
   "display_name": "Python 3",
   "language": "python",
   "name": "python3"
  },
  "language_info": {
   "codemirror_mode": {
    "name": "ipython",
    "version": 3
   },
   "file_extension": ".py",
   "mimetype": "text/x-python",
   "name": "python",
   "nbconvert_exporter": "python",
   "pygments_lexer": "ipython3",
   "version": "3.7.6"
  }
 },
 "nbformat": 4,
 "nbformat_minor": 4
}
