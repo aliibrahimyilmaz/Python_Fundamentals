{
 "cells": [
  {
   "cell_type": "code",
   "execution_count": 1,
   "metadata": {},
   "outputs": [
    {
     "name": "stdout",
     "output_type": "stream",
     "text": [
      "not notice\n"
     ]
    }
   ],
   "source": [
    "def not_string(word):\n",
    "    my_word_list = (lambda x : list(x))(word) \n",
    "    if my_word_list[0:4] == list(\"not \"):\n",
    "        return word\n",
    "    else:\n",
    "        return \"not {}\".format(word)\n",
    "\n",
    "print(not_string(\"not notice\"))"
   ]
  },
  {
   "cell_type": "code",
   "execution_count": 9,
   "metadata": {},
   "outputs": [
    {
     "name": "stdout",
     "output_type": "stream",
     "text": [
      "not string\n"
     ]
    }
   ],
   "source": [
    "def not_string(word):\n",
    "    if list(word)[0:4] == list(\"not \"):\n",
    "        return word\n",
    "    else:\n",
    "        return \"not \" + word\n",
    "\n",
    "print(not_string(\"string\"))"
   ]
  },
  {
   "cell_type": "code",
   "execution_count": null,
   "metadata": {},
   "outputs": [],
   "source": []
  }
 ],
 "metadata": {
  "kernelspec": {
   "display_name": "Python 3",
   "language": "python",
   "name": "python3"
  },
  "language_info": {
   "codemirror_mode": {
    "name": "ipython",
    "version": 3
   },
   "file_extension": ".py",
   "mimetype": "text/x-python",
   "name": "python",
   "nbconvert_exporter": "python",
   "pygments_lexer": "ipython3",
   "version": "3.7.6"
  }
 },
 "nbformat": 4,
 "nbformat_minor": 4
}
