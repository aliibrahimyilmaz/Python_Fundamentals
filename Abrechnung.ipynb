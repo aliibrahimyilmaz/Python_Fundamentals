{
 "cells": [
  {
   "cell_type": "code",
   "execution_count": 6,
   "metadata": {},
   "outputs": [
    {
     "name": "stdout",
     "output_type": "stream",
     "text": [
      "job verecek :  120\n",
      "Ödenecek :  891\n"
     ]
    }
   ],
   "source": [
    "kalt_miete = 585\n",
    "betrieb_kosten = 61\n",
    "heiz_kosten = 120\n",
    "alt_grund_miete = kalt_miete + betrieb_kosten\n",
    "neu_grund_miete = 661\n",
    "job_zuschuss = (12-4) * (neu_grund_miete - alt_grund_miete)\n",
    "print(\"job verecek : \", job_zuschuss)\n",
    "nachzahlung = 1011\n",
    "print(\"Ödenecek : \", nachzahlung - job_zuschuss)"
   ]
  },
  {
   "cell_type": "code",
   "execution_count": 7,
   "metadata": {},
   "outputs": [
    {
     "name": "stdout",
     "output_type": "stream",
     "text": [
      "job verecek :  320\n",
      "Ödenecek :  465\n"
     ]
    }
   ],
   "source": [
    "kalt_miete = 561\n",
    "betrieb_kosten = 60\n",
    "heiz_kosten = 120\n",
    "alt_grund_miete = kalt_miete + betrieb_kosten\n",
    "neu_grund_miete = 661\n",
    "job_zuschuss = (12-4) * (neu_grund_miete - alt_grund_miete)\n",
    "print(\"job verecek : \", job_zuschuss)\n",
    "nachzahlung = 785\n",
    "print(\"Ödenecek : \", nachzahlung - job_zuschuss)"
   ]
  },
  {
   "cell_type": "code",
   "execution_count": 8,
   "metadata": {},
   "outputs": [
    {
     "data": {
      "text/plain": [
       "147.11111111111111"
      ]
     },
     "execution_count": 8,
     "metadata": {},
     "output_type": "execute_result"
    }
   ],
   "source": [
    "1324/9"
   ]
  },
  {
   "cell_type": "code",
   "execution_count": 10,
   "metadata": {},
   "outputs": [
    {
     "data": {
      "text/plain": [
       "145.33333333333334"
      ]
     },
     "execution_count": 10,
     "metadata": {},
     "output_type": "execute_result"
    }
   ],
   "source": [
    "1744/12"
   ]
  },
  {
   "cell_type": "code",
   "execution_count": 11,
   "metadata": {},
   "outputs": [
    {
     "data": {
      "text/plain": [
       "75.66666666666667"
      ]
     },
     "execution_count": 11,
     "metadata": {},
     "output_type": "execute_result"
    }
   ],
   "source": [
    "908/12"
   ]
  },
  {
   "cell_type": "code",
   "execution_count": 12,
   "metadata": {},
   "outputs": [
    {
     "data": {
      "text/plain": [
       "912"
      ]
     },
     "execution_count": 12,
     "metadata": {},
     "output_type": "execute_result"
    }
   ],
   "source": [
    "76*12"
   ]
  },
  {
   "cell_type": "code",
   "execution_count": 13,
   "metadata": {},
   "outputs": [
    {
     "data": {
      "text/plain": [
       "832"
      ]
     },
     "execution_count": 13,
     "metadata": {},
     "output_type": "execute_result"
    }
   ],
   "source": [
    "1744-912"
   ]
  },
  {
   "cell_type": "code",
   "execution_count": null,
   "metadata": {},
   "outputs": [],
   "source": []
  }
 ],
 "metadata": {
  "kernelspec": {
   "display_name": "Python 3",
   "language": "python",
   "name": "python3"
  },
  "language_info": {
   "codemirror_mode": {
    "name": "ipython",
    "version": 3
   },
   "file_extension": ".py",
   "mimetype": "text/x-python",
   "name": "python",
   "nbconvert_exporter": "python",
   "pygments_lexer": "ipython3",
   "version": "3.7.6"
  }
 },
 "nbformat": 4,
 "nbformat_minor": 4
}
