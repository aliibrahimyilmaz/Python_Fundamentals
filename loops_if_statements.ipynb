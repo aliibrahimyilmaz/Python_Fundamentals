{
 "cells": [
  {
   "cell_type": "code",
   "execution_count": 7,
   "metadata": {},
   "outputs": [
    {
     "name": "stdout",
     "output_type": "stream",
     "text": [
      "enter your exam score:87\n",
      "Your degree is B+\n"
     ]
    }
   ],
   "source": [
    "my_not = float(input(\"enter your exam score:\"))\n",
    "if my_not >= 90:\n",
    "    if my_not >= 95:\n",
    "        print(\"Your degree is A+\")\n",
    "    else : print(\"Your degree is A\")\n",
    "elif  my_not >= 80:\n",
    "    if my_not >= 85:\n",
    "        print(\"Your degree is B+\")\n",
    "    else : print(\"Your degree is B\")\n",
    "else : print(\"below B\")\n"
   ]
  },
  {
   "cell_type": "code",
   "execution_count": 8,
   "metadata": {},
   "outputs": [
    {
     "name": "stdout",
     "output_type": "stream",
     "text": [
      "<filter object at 0x000001D80F6E44C8>\n",
      "10\n",
      "6\n",
      "50\n"
     ]
    }
   ],
   "source": [
    "def is_even(x):\n",
    "    if x % 2 == 0:\n",
    "        return True\n",
    "    else:\n",
    "        return False\n",
    "\n",
    "f = filter(is_even, [1, 3, 10, 45, 6, 50])\n",
    "\n",
    "print(f)\n",
    "\n",
    "for i in f:\n",
    "    print(i)\n",
    "    "
   ]
  },
  {
   "cell_type": "code",
   "execution_count": 1,
   "metadata": {},
   "outputs": [
    {
     "name": "stdout",
     "output_type": "stream",
     "text": [
      "enter your age:4r\n",
      "You entered incorrectly!\n",
      "enter your age:40\n",
      "Great! You entered valid input:  40\n"
     ]
    }
   ],
   "source": [
    "age = input(\"enter your age:\")\n",
    "while not age.isdigit():  # age.isdigit strgin hepsi digit ise true verir.\n",
    "    print (\"You entered incorrectly!\")\n",
    "    age = input(\"enter your age:\")\n",
    "print(\"Great! You entered valid input: \", age)\n"
   ]
  },
  {
   "cell_type": "code",
   "execution_count": 10,
   "metadata": {},
   "outputs": [
    {
     "name": "stdout",
     "output_type": "stream",
     "text": [
      "guess the number in my head:27\n",
      "Little higher\n",
      "guess the number in my head:28\n",
      "Great! You win.\n"
     ]
    }
   ],
   "source": [
    "my_num = 28\n",
    "num = int(input(\"guess the number in my head:\"))\n",
    "\n",
    "if num == my_num:\n",
    "    print(\"Great! You win.\")\n",
    "else: \n",
    "    while True:\n",
    "        if num < my_num:\n",
    "            print(\"Little higher\")\n",
    "            num = int(input(\"guess the number in my head:\"))\n",
    "        elif (num > my_num): \n",
    "            print(\"Little lower\")\n",
    "            num = int(input(\"guess the number in my head:\"))\n",
    "        else: \n",
    "            print(\"Great! You win.\")\n",
    "            break\n"
   ]
  },
  {
   "cell_type": "code",
   "execution_count": 22,
   "metadata": {},
   "outputs": [
    {
     "name": "stdout",
     "output_type": "stream",
     "text": [
      "Please insert a sentence :ben cok mutluyum\n",
      "ben cok mutluyum\n",
      "['mutluyum', 'cok', 'ben']\n",
      "mutluyum 8\n"
     ]
    }
   ],
   "source": [
    "word = input(\"Please insert a sentence :\")\n",
    "print(word)\n",
    "new_word = sorted(word.split(), key = word.split().sort(), reverse = True)\n",
    "print(new_word)\n",
    "print(f\"{new_word[0]} {len(new_word[0])}\")\n"
   ]
  },
  {
   "cell_type": "code",
   "execution_count": 13,
   "metadata": {},
   "outputs": [
    {
     "data": {
      "text/plain": [
       "16"
      ]
     },
     "execution_count": 13,
     "metadata": {},
     "output_type": "execute_result"
    }
   ],
   "source": [
    "len(word)"
   ]
  },
  {
   "cell_type": "code",
   "execution_count": 25,
   "metadata": {},
   "outputs": [
    {
     "name": "stdout",
     "output_type": "stream",
     "text": [
      "['mutluyum', 'cok', 'ben']\n",
      "mutluyum\n"
     ]
    }
   ],
   "source": [
    "i=1\n",
    "print(new_word)\n",
    "print(new_word[i-1])"
   ]
  },
  {
   "cell_type": "code",
   "execution_count": 57,
   "metadata": {},
   "outputs": [
    {
     "name": "stdout",
     "output_type": "stream",
     "text": [
      "a\n",
      "v\n"
     ]
    }
   ],
   "source": [
    "mydict = dict(a=\"ali\", v=\"veli\") \n",
    "#mylist = list(mydict.values()).sort()\n",
    "for i in mydict:\n",
    "    print(i)  #  "
   ]
  },
  {
   "cell_type": "code",
   "execution_count": 44,
   "metadata": {},
   "outputs": [
    {
     "name": "stdout",
     "output_type": "stream",
     "text": [
      "None\n"
     ]
    }
   ],
   "source": [
    "print(list(mydict.values()).sort())"
   ]
  },
  {
   "cell_type": "code",
   "execution_count": 54,
   "metadata": {},
   "outputs": [],
   "source": [
    "mylist"
   ]
  },
  {
   "cell_type": "code",
   "execution_count": 45,
   "metadata": {},
   "outputs": [],
   "source": [
    "names = [\"ahmed\", \"aisha\", \"adam\", \"joseph\", \"gabriel\"]"
   ]
  },
  {
   "cell_type": "code",
   "execution_count": 46,
   "metadata": {},
   "outputs": [
    {
     "name": "stdout",
     "output_type": "stream",
     "text": [
      "Hello ahmed\n",
      "Hello aisha\n",
      "Hello adam\n",
      "Hello joseph\n",
      "Hello gabriel\n"
     ]
    }
   ],
   "source": [
    "for i in names:\n",
    "    print(\"Hello\", i)"
   ]
  },
  {
   "cell_type": "code",
   "execution_count": 50,
   "metadata": {},
   "outputs": [
    {
     "name": "stdout",
     "output_type": "stream",
     "text": [
      "[1, 2, 3, 4, 5]\n"
     ]
    }
   ],
   "source": [
    "num_list = []\n",
    "\n",
    "for i in range(1, 6):\n",
    "    num_list.append(i)\n",
    "print(num_list)"
   ]
  },
  {
   "cell_type": "code",
   "execution_count": null,
   "metadata": {},
   "outputs": [],
   "source": []
  }
 ],
 "metadata": {
  "kernelspec": {
   "display_name": "Python 3",
   "language": "python",
   "name": "python3"
  },
  "language_info": {
   "codemirror_mode": {
    "name": "ipython",
    "version": 3
   },
   "file_extension": ".py",
   "mimetype": "text/x-python",
   "name": "python",
   "nbconvert_exporter": "python",
   "pygments_lexer": "ipython3",
   "version": "3.7.6"
  }
 },
 "nbformat": 4,
 "nbformat_minor": 4
}
