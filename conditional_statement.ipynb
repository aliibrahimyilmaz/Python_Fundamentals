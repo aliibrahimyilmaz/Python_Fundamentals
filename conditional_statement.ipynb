{
 "cells": [
  {
   "cell_type": "markdown",
   "metadata": {},
   "source": [
    "Conditional Statements, Comparison Operators"
   ]
  },
  {
   "cell_type": "code",
   "execution_count": null,
   "metadata": {},
   "outputs": [],
   "source": []
  },
  {
   "cell_type": "code",
   "execution_count": null,
   "metadata": {},
   "outputs": [],
   "source": [
    "date = set(\"04/07/2020\")\n",
    "date_new = {\"04/07/2020\"}"
   ]
  },
  {
   "cell_type": "code",
   "execution_count": 2,
   "metadata": {},
   "outputs": [
    {
     "data": {
      "text/plain": [
       "{'/', '0', '2', '4', '7'}"
      ]
     },
     "execution_count": 2,
     "metadata": {},
     "output_type": "execute_result"
    }
   ],
   "source": [
    "date"
   ]
  },
  {
   "cell_type": "code",
   "execution_count": 3,
   "metadata": {},
   "outputs": [
    {
     "data": {
      "text/plain": [
       "{'04/07/2020'}"
      ]
     },
     "execution_count": 3,
     "metadata": {},
     "output_type": "execute_result"
    }
   ],
   "source": [
    "date_new\n"
   ]
  },
  {
   "cell_type": "code",
   "execution_count": 4,
   "metadata": {},
   "outputs": [],
   "source": [
    "list1 = [1, 2, 3, 3, 3, 4, 5, 5, 6]\n",
    "set1 = set(list1)\n"
   ]
  },
  {
   "cell_type": "code",
   "execution_count": 5,
   "metadata": {},
   "outputs": [
    {
     "data": {
      "text/plain": [
       "{1, 2, 3, 4, 5, 6}"
      ]
     },
     "execution_count": 5,
     "metadata": {},
     "output_type": "execute_result"
    }
   ],
   "source": [
    "set1"
   ]
  },
  {
   "cell_type": "code",
   "execution_count": 7,
   "metadata": {},
   "outputs": [],
   "source": [
    "set2 = {\"list1\"}"
   ]
  },
  {
   "cell_type": "code",
   "execution_count": 8,
   "metadata": {},
   "outputs": [
    {
     "data": {
      "text/plain": [
       "{'list1'}"
      ]
     },
     "execution_count": 8,
     "metadata": {},
     "output_type": "execute_result"
    }
   ],
   "source": [
    "set2"
   ]
  },
  {
   "cell_type": "code",
   "execution_count": 10,
   "metadata": {},
   "outputs": [
    {
     "name": "stdout",
     "output_type": "stream",
     "text": [
      "We are the same!\n",
      "{' ', 'n', 's', 'e', 'p', 'v', 'o', 't', 'l', 'u', 'w'}\n",
      "{'n', ' ', 's', 'e', 'p', 'v', 'o', 't', 'l', 'u', 'w'}\n"
     ]
    }
   ],
   "source": [
    "set1 = set(\"twelve plus one\")\n",
    "set2 = set(\"eleven plus two\")\n",
    "if set1 == set2:\n",
    "    print(\"We are the same!\")\n",
    "print(set1)\n",
    "print(set2)"
   ]
  },
  {
   "cell_type": "code",
   "execution_count": 11,
   "metadata": {},
   "outputs": [
    {
     "data": {
      "text/plain": [
       "set()"
      ]
     },
     "execution_count": 11,
     "metadata": {},
     "output_type": "execute_result"
    }
   ],
   "source": [
    "set1 - set2"
   ]
  },
  {
   "cell_type": "code",
   "execution_count": 12,
   "metadata": {},
   "outputs": [
    {
     "data": {
      "text/plain": [
       "{' ', 'e', 'l', 'n', 'o', 'p', 's', 't', 'u', 'v', 'w'}"
      ]
     },
     "execution_count": 12,
     "metadata": {},
     "output_type": "execute_result"
    }
   ],
   "source": [
    "set1 & set2"
   ]
  },
  {
   "cell_type": "code",
   "execution_count": 15,
   "metadata": {},
   "outputs": [
    {
     "name": "stdout",
     "output_type": "stream",
     "text": [
      "Enter yes or nono\n",
      "You entered  False\n"
     ]
    }
   ],
   "source": [
    "ans = input(\"Enter yes or no\").title().strip() == \"Yes\"\n",
    "print(\"You entered \", ans)"
   ]
  },
  {
   "cell_type": "markdown",
   "metadata": {},
   "source": [
    "ODD EVEN NUMBERS and STRING FORMATTING"
   ]
  },
  {
   "cell_type": "code",
   "execution_count": 22,
   "metadata": {},
   "outputs": [
    {
     "name": "stdout",
     "output_type": "stream",
     "text": [
      "enter a number:1\n",
      "1 is odd\n",
      "1 is odd\n"
     ]
    }
   ],
   "source": [
    "num =int(input(\"enter a number:\"))\n",
    "if num % 2 == 0:\n",
    "    print(num, \"is even\")\n",
    "    print(\"{0} is even\".format(num))\n",
    "    print(\"{} is even\".format(num))\n",
    "    print(f\"{num} is even\")\n",
    "else:\n",
    "    print(num, \"is odd\")\n",
    "    print(\"%d is odd\" %(num))"
   ]
  },
  {
   "cell_type": "markdown",
   "metadata": {},
   "source": [
    "NEGATIV POSITIV NUMBERS"
   ]
  },
  {
   "cell_type": "code",
   "execution_count": 24,
   "metadata": {},
   "outputs": [
    {
     "name": "stdout",
     "output_type": "stream",
     "text": [
      "enter a number:-4\n",
      "-4.0 is negativ\n"
     ]
    }
   ],
   "source": [
    "num =float(input(\"enter a number:\"))\n",
    "if num > 0:\n",
    "    print(num, \"is positiv\")\n",
    "else:\n",
    "    print(num, \"is negativ\")"
   ]
  },
  {
   "cell_type": "markdown",
   "metadata": {},
   "source": [
    "LARGER NUMBER"
   ]
  },
  {
   "cell_type": "code",
   "execution_count": 25,
   "metadata": {},
   "outputs": [
    {
     "name": "stdout",
     "output_type": "stream",
     "text": [
      "enter the first number:12\n",
      "enter the second number:14\n",
      "The large number is 14.0\n"
     ]
    }
   ],
   "source": [
    "num1 =float(input(\"enter the first number:\"))\n",
    "num2 =float(input(\"enter the second number:\"))\n",
    "if num1 > num2:\n",
    "    print(\"The large number is\", num1)\n",
    "else:\n",
    "    print(\"The large number is\", num2)"
   ]
  },
  {
   "cell_type": "code",
   "execution_count": 27,
   "metadata": {},
   "outputs": [
    {
     "name": "stdout",
     "output_type": "stream",
     "text": [
      "No\n"
     ]
    }
   ],
   "source": [
    "bool_value = False\n",
    "if bool_value:\n",
    "    print(\"Yes\")\n",
    "else:\n",
    "    print(\"No\")"
   ]
  },
  {
   "cell_type": "code",
   "execution_count": null,
   "metadata": {},
   "outputs": [],
   "source": []
  }
 ],
 "metadata": {
  "kernelspec": {
   "display_name": "Python 3",
   "language": "python",
   "name": "python3"
  },
  "language_info": {
   "codemirror_mode": {
    "name": "ipython",
    "version": 3
   },
   "file_extension": ".py",
   "mimetype": "text/x-python",
   "name": "python",
   "nbconvert_exporter": "python",
   "pygments_lexer": "ipython3",
   "version": "3.7.6"
  }
 },
 "nbformat": 4,
 "nbformat_minor": 4
}
