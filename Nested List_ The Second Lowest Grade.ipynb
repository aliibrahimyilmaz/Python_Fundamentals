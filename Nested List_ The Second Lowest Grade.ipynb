{
 "cells": [
  {
   "cell_type": "markdown",
   "metadata": {},
   "source": [
    "https://www.hackerrank.com/challenges/nested-list/problem?h_r=next-challenge&h_v=zen"
   ]
  },
  {
   "cell_type": "code",
   "execution_count": null,
   "metadata": {
    "scrolled": false
   },
   "outputs": [],
   "source": [
    "student_num = int(input(\"How many students are there in the Class: \"))\n",
    "records = []\n",
    "\n",
    "for i in range(student_num):\n",
    "    student_name = input(\"name: \")\n",
    "    student_score = float(input(\"score: \"))\n",
    "    records.append([student_name, student_score])\n",
    "\n",
    "sorted_score = sorted([(lambda x : [records[x][1], records[x][0]])(i) for i in range(len(records))])\n",
    "\n",
    "counter = 0\n",
    "name = []\n",
    "\n",
    "while counter <= len(sorted_score):\n",
    "    if sorted_score[counter][0] == sorted_score[counter+1][0]:\n",
    "        counter += 1\n",
    "    else:\n",
    "        name.append(sorted_score[counter+1][1])\n",
    "        counter += 1\n",
    "        break\n",
    "        \n",
    "while counter != len(sorted_score)-1:\n",
    "    if sorted_score[counter][0] != sorted_score[counter+1][0]:\n",
    "        break\n",
    "    else: \n",
    "        name.append(sorted_score[counter+1][1])\n",
    "        counter += 1\n",
    "\n",
    "for i in name:\n",
    "    print(i)"
   ]
  },
  {
   "cell_type": "code",
   "execution_count": null,
   "metadata": {},
   "outputs": [],
   "source": [
    "if __name__ == '__main__':\n",
    "    records = []\n",
    "    for _ in range(int(input())):\n",
    "        student_name = input()\n",
    "        student_score = float(input())\n",
    "        records.append([student_name, student_score])\n",
    "\n",
    "    sorted_score = sorted([(lambda x : [records[x][1], records[x][0]])(i) for i in range(len(records))])\n",
    "\n",
    "    counter = 0\n",
    "    name = []\n",
    "\n",
    "    while counter <= len(sorted_score):\n",
    "        if sorted_score[counter][0] == sorted_score[counter+1][0]:\n",
    "            counter += 1\n",
    "        else:\n",
    "            name.append(sorted_score[counter+1][1])\n",
    "            counter += 1\n",
    "            break\n",
    "\n",
    "    while counter != len(sorted_score)-1:\n",
    "        if sorted_score[counter][0] != sorted_score[counter+1][0]:\n",
    "            break\n",
    "        else: \n",
    "            name.append(sorted_score[counter+1][1])\n",
    "            counter += 1\n",
    "\n",
    "    for i in name:\n",
    "        print(i)\n"
   ]
  },
  {
   "cell_type": "code",
   "execution_count": 2,
   "metadata": {},
   "outputs": [
    {
     "name": "stdout",
     "output_type": "stream",
     "text": [
      "4\n",
      "a\n",
      "21\n",
      "s\n",
      "21\n",
      "d\n",
      "21\n",
      "f\n",
      "22\n",
      "f\n"
     ]
    },
    {
     "data": {
      "text/plain": [
       "[None]"
      ]
     },
     "execution_count": 2,
     "metadata": {},
     "output_type": "execute_result"
    }
   ],
   "source": [
    "    d={} \n",
    "    for i in range(int(input())): \n",
    "        n=input() \n",
    "        s=float(input()) \n",
    "        d[n]=s \n",
    "    s=sorted(list(set(d.values())))[1] \n",
    "    s_l=[k for k,v in d.items() if v==s]\n",
    "    s_l.sort() \n",
    "    [print(n) for n in s_l]"
   ]
  },
  {
   "cell_type": "code",
   "execution_count": 4,
   "metadata": {},
   "outputs": [
    {
     "name": "stdout",
     "output_type": "stream",
     "text": [
      "{'a': 21.0, 's': 21.0, 'd': 21.0, 'f': 22.0}\n"
     ]
    }
   ],
   "source": [
    "type(d)\n",
    "print(d)"
   ]
  },
  {
   "cell_type": "code",
   "execution_count": null,
   "metadata": {},
   "outputs": [],
   "source": []
  }
 ],
 "metadata": {
  "kernelspec": {
   "display_name": "Python 3",
   "language": "python",
   "name": "python3"
  },
  "language_info": {
   "codemirror_mode": {
    "name": "ipython",
    "version": 3
   },
   "file_extension": ".py",
   "mimetype": "text/x-python",
   "name": "python",
   "nbconvert_exporter": "python",
   "pygments_lexer": "ipython3",
   "version": "3.7.6"
  }
 },
 "nbformat": 4,
 "nbformat_minor": 4
}
