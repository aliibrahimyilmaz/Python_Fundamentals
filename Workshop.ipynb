{
 "cells": [
  {
   "cell_type": "markdown",
   "metadata": {},
   "source": [
    "# Problem 1"
   ]
  },
  {
   "cell_type": "markdown",
   "metadata": {},
   "source": [
    "Verilen iki listenin kesişim elemanlarını set kullanmadan bulmaya çalışın?"
   ]
  },
  {
   "cell_type": "code",
   "execution_count": 2,
   "metadata": {},
   "outputs": [
    {
     "name": "stdout",
     "output_type": "stream",
     "text": [
      "[2, 3]\n"
     ]
    }
   ],
   "source": [
    "list1 = [1, 2, 3, 4, 8, 9]\n",
    "list2 = [2, 3, 6, 11]\n",
    "\n",
    "# filter(function, iterable)\n",
    "\n",
    "inter = list(filter(lambda x : x in list1, list2))\n",
    "print(inter)\n"
   ]
  },
  {
   "cell_type": "markdown",
   "metadata": {},
   "source": [
    "# Problem 2"
   ]
  },
  {
   "cell_type": "markdown",
   "metadata": {},
   "source": [
    "Verilen kelimede w2 harfini w1 ile değiştiren fonksiyon yazın? (lambda ile yazmaya çalışın)"
   ]
  },
  {
   "cell_type": "code",
   "execution_count": 3,
   "metadata": {},
   "outputs": [
    {
     "name": "stdout",
     "output_type": "stream",
     "text": [
      "clarusway\n"
     ]
    }
   ],
   "source": [
    "# clarısway, u, ı\n",
    "\n",
    "def replace_char(word, w1, w2):\n",
    "    new_word = map(lambda x : x if x!= w2 else w1, word)\n",
    "    return \"\".join(new_word)\n",
    "\n",
    "print(replace_char(\"clarısway\",\"u\",\"ı\"))"
   ]
  },
  {
   "cell_type": "markdown",
   "metadata": {},
   "source": [
    "# Problem 3 "
   ]
  },
  {
   "cell_type": "markdown",
   "metadata": {},
   "source": [
    "list1 = [(3, 4, 5), (6, 8, 10), (3, 10, 7)] verilen listenin elemanlarından üçgen oluuşturulabilen elemanları bulun?"
   ]
  },
  {
   "cell_type": "code",
   "execution_count": 6,
   "metadata": {},
   "outputs": [
    {
     "name": "stdout",
     "output_type": "stream",
     "text": [
      "[(3, 4, 5), (6, 8, 10)]\n"
     ]
    }
   ],
   "source": [
    "#x, y, z\n",
    "\n",
    "#x + y > z > |x-y|\n",
    "\n",
    "def is_triangle(a):\n",
    "    if (a[0] + a[1] <= a[2]) or (a[0] + a[2] <= a[1]) or (a[2] + a[1] <= a[0]):\n",
    "        return False\n",
    "    else:\n",
    "        return True\n",
    "    \n",
    "list1 = [(3, 4, 5), (6, 8, 10), (3, 10, 7)]\n",
    "\n",
    "# print(is_triangle(list1))\n",
    "\n",
    "result = list(filter(is_triangle, list1))\n",
    "print(result)"
   ]
  },
  {
   "cell_type": "markdown",
   "metadata": {},
   "source": [
    "# Problem 4 "
   ]
  },
  {
   "cell_type": "markdown",
   "metadata": {},
   "source": [
    "Kullanıcıdan girdi alan ve girilen değer sayı değilse \"sayı\" is not valid number mesajı veren bir fonksiyon yazın"
   ]
  },
  {
   "cell_type": "code",
   "execution_count": null,
   "metadata": {},
   "outputs": [
    {
     "name": "stdout",
     "output_type": "stream",
     "text": [
      "Please enter a number:asdfj\n",
      "asdfj is not valid\n",
      "None\n"
     ]
    }
   ],
   "source": [
    "def get_integer(a):\n",
    "    while True: \n",
    "        number = input(a)\n",
    "        # print (number if number.isnumeric() else print(\"{} is not valid\".format(number)))\n",
    "        if number.isnumeric():\n",
    "            return number\n",
    "        print (\"{} is not valid\".format(number)) # return yazınca while a tekrar girmiyor.\n",
    "        \n",
    "get_integer(\"Please enter a number:\")"
   ]
  },
  {
   "cell_type": "markdown",
   "metadata": {},
   "source": [
    "# Problem 5 "
   ]
  },
  {
   "cell_type": "markdown",
   "metadata": {},
   "source": [
    "Soru 4 de yazdığınız fonksiyonu is_int.py uzantılı olarak kaydedin ve daha önceden yaptığınız amstrong sayısını bulma ödevinde kullanmak üzere import edip kullanın."
   ]
  },
  {
   "cell_type": "code",
   "execution_count": 1,
   "metadata": {},
   "outputs": [
    {
     "name": "stdout",
     "output_type": "stream",
     "text": [
      "Please enter a number to check if it is an Armstrong Number: kksdf\n",
      "kksdf is not a valid number\n",
      "Please enter a number to check if it is an Armstrong Number: 5\n",
      "5 is an Armstrong Number\n"
     ]
    }
   ],
   "source": [
    "from is_int import get_integer\n",
    "\n",
    "while True:\n",
    "    number = get_integer(\"Please enter a number to check if it is an Armstrong Number: \")\n",
    "    len_num = len(number)\n",
    "    \n",
    "    lst_num = list(number)\n",
    "    \n",
    "    armstrong = 0\n",
    "    \n",
    "    for i in lst_num: \n",
    "        armstrong += int(i) ** len_num\n",
    "        \n",
    "    if int(number) == armstrong:\n",
    "        print(f\"{number} is an Armstrong Number\")\n",
    "        # break\n",
    "    else:\n",
    "        print(f\"{number} is not an Armstrong Number\")\n",
    "\n"
   ]
  },
  {
   "cell_type": "markdown",
   "metadata": {},
   "source": [
    "# Problem 6 "
   ]
  },
  {
   "cell_type": "markdown",
   "metadata": {},
   "source": [
    "Kullanıcıdan aldığınız cümlenin palindrom olup olmadığını kontrol eden fonksiyon yazın.(Noktalama ve özel karakterleri dikkate almayın. Sadece alphanumeric karakterler i dikkate alın.)"
   ]
  },
  {
   "cell_type": "code",
   "execution_count": 4,
   "metadata": {},
   "outputs": [
    {
     "name": "stdout",
     "output_type": "stream",
     "text": [
      "Please enter a sentence to check: Was it a  cat I saw?\n",
      "WasitacatIsaw\n",
      "'Was it a  cat I saw?' is a palindrome\n"
     ]
    }
   ],
   "source": [
    "# Madam == madaM  \n",
    "# Ey edip Adana'da pide ye\n",
    "# Was it a  cat I saw?\n",
    "# A9a\n",
    "\n",
    "\n",
    "def is_palindrome(string):\n",
    "    #return string[::-1].lower() == string.lower()\n",
    "    return string[::-1].casefold() == string.casefold()\n",
    "\n",
    "# print(is_palindrome(\"Madam\"))\n",
    "\n",
    "def palindrome_sentence(sentence):\n",
    "    string=\"\"\n",
    "    for char in sentence:\n",
    "        if char.isalnum():\n",
    "            string += char\n",
    "    print(string)\n",
    "    # return string[::-1].casefold() == string.casefold()\n",
    "    return is_palindrome(string)\n",
    "    \n",
    "word = input(\"Please enter a sentence to check: \")\n",
    "\n",
    "if palindrome_sentence(word):\n",
    "    print(f\"'{word}'is a palindrome\")\n",
    "else: \n",
    "    print(f\"'{word}' is not a palindrome\")\n",
    "\n",
    "    \n",
    "    "
   ]
  },
  {
   "cell_type": "markdown",
   "metadata": {},
   "source": [
    "# Problem 7"
   ]
  },
  {
   "cell_type": "markdown",
   "metadata": {},
   "source": [
    "Micro learning de çözülen aşağıdaki soruyu fonksiyon olarak düzenleyin?(Lamda kullanmayı deneyin)"
   ]
  },
  {
   "cell_type": "code",
   "execution_count": 17,
   "metadata": {},
   "outputs": [],
   "source": [
    "students = {'Student-1': {'Lesson-1': 57, 'Lesson-2': 46, 'Lesson-3': 58, 'Lesson-4': 81, 'Lesson-5': 85}, \\\n",
    "'Student-2': {'Lesson-1': 85, 'Lesson-2': 56, 'Lesson-3': 51, 'Lesson-4': 69, 'Lesson-5': 67}, \\\n",
    "'Student-3': {'Lesson-1': 68, 'Lesson-2': 76, 'Lesson-3': 87, 'Lesson-4': 57, 'Lesson-5': 56}, \\\n",
    "'Student-4': {'Lesson-1': 78, 'Lesson-2': 93, 'Lesson-3': 88, 'Lesson-4': 38, 'Lesson-5': 54}, \\\n",
    "}"
   ]
  },
  {
   "cell_type": "code",
   "execution_count": 7,
   "metadata": {},
   "outputs": [
    {
     "name": "stdout",
     "output_type": "stream",
     "text": [
      "Student-1   65.4\n",
      "Student-2   65.6\n",
      "Student-3   68.8\n",
      "Student-4   70.2\n",
      "Student-5   66.0\n",
      "\n",
      "Student-4 has maximum average with a score 70.2\n",
      "Student-1 has minimum average with a score 65.4\n"
     ]
    }
   ],
   "source": [
    "maxavr, minavr = 0, 100\n",
    "for i in students:\n",
    "   average = sum(students[i].values())/len(students[i].values())\n",
    "   if average > maxavr:\n",
    "       maxavr = average\n",
    "       maxkey = i\n",
    "   if minavr > average:\n",
    "       minavr = average\n",
    "       minkey = i\n",
    "   print(f\"{i}   {average:.1f}\")\n",
    "print(f\"\\n{maxkey} has maximum average with a score {maxavr}\\n{minkey} has minimum average with a score {minavr}\")"
   ]
  },
  {
   "cell_type": "code",
   "execution_count": 22,
   "metadata": {},
   "outputs": [
    {
     "name": "stdout",
     "output_type": "stream",
     "text": [
      "{'Student-1': 65.4, 'Student-2': 65.6, 'Student-3': 68.8, 'Student-4': 70.2}\n",
      "Student-4 has max avg with a score 70.2\n",
      "Student-1 has min avg with a score65.4\n"
     ]
    }
   ],
   "source": [
    "def avr_grades(students):\n",
    "    \n",
    "    average_grades = dict(map(lambda x : (x, sum(students[x].values())/ len(students[x].values())) ,students))\n",
    "    # average_grades= list(map(lambda x :sum(students[x].values())/ len(students[x].values()) ,students))\n",
    "    print(average_grades)\n",
    "    max_grade = max(average_grades, key = lambda i : average_grades[i])\n",
    "    # print(max_grade)\n",
    "    min_grade = min(average_grades, key = lambda i : average_grades[i])\n",
    "    # print(min_grade)\n",
    "    \n",
    "    return f\"{max_grade} has max avg with a score {average_grades[max_grade]}\\n\\\n",
    "{min_grade} has min avg with a score {average_grades[min_grade]}\"\n",
    "\n",
    "print(avr_grades(students))\n",
    "  "
   ]
  },
  {
   "cell_type": "code",
   "execution_count": 27,
   "metadata": {},
   "outputs": [
    {
     "name": "stdout",
     "output_type": "stream",
     "text": [
      "{'Student-1': 65.4, 'Student-2': 65.6, 'Student-3': 68.8, 'Student-4': 70.2}\n",
      "Student-4 has max avg with a score 70.2\n",
      "Student-1 has min avg with a score 65.4\n"
     ]
    }
   ],
   "source": [
    "grades = {}\n",
    "\n",
    "for i in students: \n",
    "    top = sum(list(students[i].values()))\n",
    "    n = len(list(students[i].values()))\n",
    "    grades[i] = top / n \n",
    "\n",
    "print(grades)\n",
    "\n",
    "max_grades = max(grades, key = grades.get)\n",
    "min_grades = min(grades, key = grades.get)\n",
    "\n",
    "print(f\"{max_grades} has max avg with a score {grades[max_grades]}\\n\\\n",
    "{min_grades} has min avg with a score {grades[min_grades]}\")\n",
    "\n"
   ]
  },
  {
   "cell_type": "code",
   "execution_count": 24,
   "metadata": {},
   "outputs": [
    {
     "data": {
      "text/plain": [
       "1"
      ]
     },
     "execution_count": 24,
     "metadata": {},
     "output_type": "execute_result"
    }
   ],
   "source": [
    "sözlük = {\"bir\": 1, \"iki\": 2}\n",
    "sözlük.get(\"bir\")"
   ]
  },
  {
   "cell_type": "code",
   "execution_count": null,
   "metadata": {},
   "outputs": [],
   "source": []
  }
 ],
 "metadata": {
  "kernelspec": {
   "display_name": "Python 3",
   "language": "python",
   "name": "python3"
  },
  "language_info": {
   "codemirror_mode": {
    "name": "ipython",
    "version": 3
   },
   "file_extension": ".py",
   "mimetype": "text/x-python",
   "name": "python",
   "nbconvert_exporter": "python",
   "pygments_lexer": "ipython3",
   "version": "3.7.6"
  }
 },
 "nbformat": 4,
 "nbformat_minor": 4
}
