{
 "cells": [
  {
   "cell_type": "code",
   "execution_count": 4,
   "metadata": {},
   "outputs": [
    {
     "name": "stdout",
     "output_type": "stream",
     "text": [
      "Bir sayi giriniz: 2\n",
      "Bir sayi giriniz: 2\n",
      "Bir sayi giriniz: 2\n",
      "Sayilarin Carpimi : 8\n",
      "2*2*2=8\n",
      "2*2*2=8\n",
      "2*2*2=8\n"
     ]
    }
   ],
   "source": [
    "num1 = int(input(\"Bir sayi giriniz: \"))\n",
    "num2 = int(input(\"Bir sayi giriniz: \"))\n",
    "num3 = int(input(\"Bir sayi giriniz: \"))\n",
    "\n",
    "result = num1 * num2 * num3\n",
    "print(\"Sayilarin Carpimi : {}\".format(result))\n",
    "print(\"%d*%d*%d=%d\"%(num1, num2, num3, result))\n",
    "print(\"{}*{}*{}={}\".format(num1, num2, num3, result))\n",
    "print(f\"{num1}*{num2}*{num3}={result}\")\n"
   ]
  },
  {
   "cell_type": "code",
   "execution_count": null,
   "metadata": {},
   "outputs": [],
   "source": [
    "kilo = float(input(\"Kilonuzu kg cinsinden giriniz: \"))\n"
   ]
  },
  {
   "cell_type": "code",
   "execution_count": 14,
   "metadata": {
    "scrolled": true
   },
   "outputs": [
    {
     "name": "stdout",
     "output_type": "stream",
     "text": [
      "Kilonuzu kg cinsinden giriniz: 90\n",
      "Boyunuz metre cinsinden giriniz: 1.8\n",
      "Beden Kitle Endeksiniz: 27.777777777777775\n"
     ]
    }
   ],
   "source": [
    "kilo = float(input(\"Kilonuzu kg cinsinden giriniz: \"))\n",
    "boy = float(input(\"Boyunuz metre cinsinden giriniz: \"))\n",
    "\n",
    "index = kilo / (boy ** 2)\n",
    "print(\"Beden Kitle Endeksiniz:\", index)"
   ]
  },
  {
   "cell_type": "code",
   "execution_count": 17,
   "metadata": {},
   "outputs": [
    {
     "name": "stdout",
     "output_type": "stream",
     "text": [
      "200 dolarla tanesi 11 dolar olan malzemeden 18 tane alabilirsiniz. Geriye 2 dolar paraniz kalir.\n"
     ]
    }
   ],
   "source": [
    "capital = 200\n",
    "price = 11\n",
    "\n",
    "peace = capital // price\n",
    "rest_capital = capital % peace\n",
    "result = (f\"{capital} dolarla tanesi {price} dolar olan malzemeden \"\n",
    "        f\"{peace} tane alabilirsiniz. \"\n",
    "         f\"Geriye {rest_capital} dolar paraniz kalir.\")\n",
    "print(result)"
   ]
  },
  {
   "cell_type": "code",
   "execution_count": 21,
   "metadata": {
    "scrolled": true
   },
   "outputs": [
    {
     "name": "stdout",
     "output_type": "stream",
     "text": [
      "Enter Number: 2\n",
      "Enter Number: 3\n",
      "3 2\n"
     ]
    }
   ],
   "source": [
    "a = int(input(\"Enter Number: \"))\n",
    "b = int(input(\"Enter Number: \"))\n",
    "\n",
    "a, b = b, a\n",
    "print(a, b)"
   ]
  },
  {
   "cell_type": "code",
   "execution_count": 24,
   "metadata": {},
   "outputs": [
    {
     "name": "stdout",
     "output_type": "stream",
     "text": [
      "ali/ali/ali\n"
     ]
    }
   ],
   "source": [
    "print(\"ali\", \"ali\", \"ali\", sep=\"/\")"
   ]
  },
  {
   "cell_type": "code",
   "execution_count": null,
   "metadata": {},
   "outputs": [],
   "source": [
    "word = input"
   ]
  },
  {
   "cell_type": "code",
   "execution_count": 27,
   "metadata": {},
   "outputs": [
    {
     "name": "stdout",
     "output_type": "stream",
     "text": [
      "Enter a word: Clarusway\n",
      "Enter Repition Number: 4\n",
      "swayswayswaysway\n"
     ]
    }
   ],
   "source": [
    "word = input(\"Enter a word: \")\n",
    "n = int(input(\"Enter Repition Number: \"))\n",
    "\n",
    "print(n*word[-n:])"
   ]
  },
  {
   "cell_type": "code",
   "execution_count": 33,
   "metadata": {},
   "outputs": [
    {
     "name": "stdout",
     "output_type": "stream",
     "text": [
      "Enter a number: 13\n",
      "False\n",
      "False\n",
      "13\n"
     ]
    }
   ],
   "source": [
    "num = int(input(\"Enter a number: \"))\n",
    "print (num % 3 == 0)\n",
    "print (num % 5 == 0)\n",
    "\n",
    "print((\"Clarus\" * (num % 3 == 0) + \"way\" * (num % 5 == 0)) or num)"
   ]
  },
  {
   "cell_type": "code",
   "execution_count": 39,
   "metadata": {},
   "outputs": [
    {
     "name": "stdout",
     "output_type": "stream",
     "text": [
      "clarus\n",
      "cba\n",
      "cba\n",
      "zyxsural\n"
     ]
    }
   ],
   "source": [
    "letters = \"abclarusxyz\"\n",
    "\n",
    "print(letters[2:8])\n",
    "print(letters[2::-1])\n",
    "print(letters[-9::-1])\n",
    "print(letters[:-9:-1])"
   ]
  },
  {
   "cell_type": "code",
   "execution_count": null,
   "metadata": {},
   "outputs": [],
   "source": []
  }
 ],
 "metadata": {
  "kernelspec": {
   "display_name": "Python 3",
   "language": "python",
   "name": "python3"
  },
  "language_info": {
   "codemirror_mode": {
    "name": "ipython",
    "version": 3
   },
   "file_extension": ".py",
   "mimetype": "text/x-python",
   "name": "python",
   "nbconvert_exporter": "python",
   "pygments_lexer": "ipython3",
   "version": "3.7.6"
  }
 },
 "nbformat": 4,
 "nbformat_minor": 4
}
