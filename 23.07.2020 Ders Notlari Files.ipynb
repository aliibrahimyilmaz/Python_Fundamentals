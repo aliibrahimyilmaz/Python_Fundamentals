{
 "cells": [
  {
   "cell_type": "code",
   "execution_count": null,
   "metadata": {
    "scrolled": true
   },
   "outputs": [],
   "source": [
    "with open(\"rumi.txt\", \"r\") as file:\n",
    "    print(file.readline())\n",
    "    print(file.readline())\n",
    "    print(file.readline(18))"
   ]
  },
  {
   "cell_type": "code",
   "execution_count": null,
   "metadata": {},
   "outputs": [],
   "source": [
    "with open(\"rumi.txt\", \"r\") as file:\n",
    "    print(file.readline())\n",
    "    print(file.readlines())\n",
    "    for i in file:\n",
    "        print(i[:-1])"
   ]
  },
  {
   "cell_type": "code",
   "execution_count": null,
   "metadata": {},
   "outputs": [],
   "source": [
    "with open(\"dummy.txt\", \"w\", encoding=\"utf-8\") as file:\n",
    "    file.write(\"Das ist meine erste Datei\\n\")"
   ]
  },
  {
   "cell_type": "code",
   "execution_count": null,
   "metadata": {},
   "outputs": [],
   "source": [
    "with open(\"dummy.txt\", \"a\", encoding=\"utf-8\") as file:\n",
    "    file.write(\"Das ist meine erste Einlage\\n\")"
   ]
  },
  {
   "cell_type": "code",
   "execution_count": null,
   "metadata": {},
   "outputs": [],
   "source": [
    "fruits = [\"Banana\", \"Orange\", \"Apple\", \"Strawberry\", \"Cherry\"]"
   ]
  },
  {
   "cell_type": "code",
   "execution_count": null,
   "metadata": {},
   "outputs": [],
   "source": [
    "with open(\"fruits.txt\", \"w\", encoding=\"utf-8\") as file:\n",
    "    for i in fruits:\n",
    "        file.write(i + \"\\n\\n\")\n",
    "with open(\"fruits.txt\", \"r\", encoding=\"utf-8\") as file:\n",
    "    print(file.read())"
   ]
  },
  {
   "cell_type": "code",
   "execution_count": null,
   "metadata": {},
   "outputs": [],
   "source": [
    "fruits_2 = [\"Banana\\n\", \"Orange\\n\", \"Apple\\n\", \"Strawberry\\n\", \"Cherry\\n\"]"
   ]
  },
  {
   "cell_type": "code",
   "execution_count": null,
   "metadata": {},
   "outputs": [],
   "source": [
    "with open(\"fruits_2.txt\", \"w\", encoding=\"utf-8\") as file:\n",
    "    file.writelines(fruits_2)"
   ]
  },
  {
   "cell_type": "code",
   "execution_count": null,
   "metadata": {},
   "outputs": [],
   "source": [
    "with open(\"fruits_2.txt\", \"r\", encoding=\"utf-8\") as file:\n",
    "    print(file.read())"
   ]
  },
  {
   "cell_type": "code",
   "execution_count": null,
   "metadata": {},
   "outputs": [],
   "source": [
    "with open(\"fruits_2.txt\", \"a\", encoding=\"utf-8\") as file:\n",
    "    file.write(\"Melon\\n\")"
   ]
  },
  {
   "cell_type": "code",
   "execution_count": null,
   "metadata": {},
   "outputs": [],
   "source": [
    "with open(\"fruits_2.txt\", \"r\", encoding=\"utf-8\") as file:\n",
    "    print(file.readlines())"
   ]
  },
  {
   "cell_type": "code",
   "execution_count": null,
   "metadata": {},
   "outputs": [],
   "source": [
    "with open(\"istiklal.txt\", \"r\", encoding = \"utf-8\") as file:\n",
    "    my_list = file.readlines()\n",
    "    print(my_list)"
   ]
  },
  {
   "cell_type": "code",
   "execution_count": null,
   "metadata": {
    "scrolled": true
   },
   "outputs": [],
   "source": [
    "count = 0\n",
    "with open(\"istiklal.txt\", \"w\", encoding = \"utf-8\") as file:\n",
    "    for i in my_list:\n",
    "        count += 1\n",
    "        file.write(i)\n",
    "        if count == 4:\n",
    "            file.write(\"\\n\")\n",
    "            count = 0\n",
    "with open(\"istiklal.txt\", \"r\", encoding = \"utf-8\") as file:\n",
    "    print(file.read())"
   ]
  },
  {
   "cell_type": "code",
   "execution_count": null,
   "metadata": {},
   "outputs": [],
   "source": [
    "with open(\"istiklal.txt\", \"r\", encoding = \"utf-8\") as file:\n",
    "    my_newfile = file.readlines()\n",
    "    \n",
    "with open(\"istiklal.txt\", \"a\", encoding = \"utf-8\") as file:\n",
    "    file.write(\"\\n\")\n",
    "    for i in my_newfile:\n",
    "        if i == \"\\n\":\n",
    "            i.replace(\"\\n\", \"\")\n",
    "        else:\n",
    "            file.write(i)\n",
    "\n",
    "with open(\"istiklal.txt\", \"r\", encoding = \"utf-8\") as file:\n",
    "    print(file.read())"
   ]
  }
 ],
 "metadata": {
  "kernelspec": {
   "display_name": "Python 3",
   "language": "python",
   "name": "python3"
  },
  "language_info": {
   "codemirror_mode": {
    "name": "ipython",
    "version": 3
   },
   "file_extension": ".py",
   "mimetype": "text/x-python",
   "name": "python",
   "nbconvert_exporter": "python",
   "pygments_lexer": "ipython3",
   "version": "3.7.6"
  }
 },
 "nbformat": 4,
 "nbformat_minor": 4
}
