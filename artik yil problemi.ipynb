{
 "cells": [
  {
   "cell_type": "code",
   "execution_count": 12,
   "metadata": {},
   "outputs": [
    {
     "name": "stdout",
     "output_type": "stream",
     "text": [
      "dort haneli bir yil giriniz: 2004\n",
      "True\n"
     ]
    }
   ],
   "source": [
    "yil = int(input(\"dort haneli bir yil giriniz: \"))\n",
    "a = (yil % 4 == 0)\n",
    "b = (yil % 400 == 0)\n",
    "c = (yil % 100 == 0)\n",
    "sonuc = b or (a and not c )\n",
    "print(sonuc)\n"
   ]
  },
  {
   "cell_type": "code",
   "execution_count": 27,
   "metadata": {},
   "outputs": [
    {
     "name": "stdout",
     "output_type": "stream",
     "text": [
      "Enter year in 4 digits: 2800\n",
      "True\n"
     ]
    }
   ],
   "source": [
    "\n",
    "year = int(input(\"Enter year in 4 digits: \"))\n",
    "\n",
    "leap_year =(year % 400 == 0) or ((year % 4 == 0) and not (year % 100 == 0))\n",
    "\n",
    "print(leap_year)"
   ]
  },
  {
   "cell_type": "code",
   "execution_count": null,
   "metadata": {},
   "outputs": [],
   "source": []
  }
 ],
 "metadata": {
  "kernelspec": {
   "display_name": "Python 3",
   "language": "python",
   "name": "python3"
  },
  "language_info": {
   "codemirror_mode": {
    "name": "ipython",
    "version": 3
   },
   "file_extension": ".py",
   "mimetype": "text/x-python",
   "name": "python",
   "nbconvert_exporter": "python",
   "pygments_lexer": "ipython3",
   "version": "3.7.6"
  }
 },
 "nbformat": 4,
 "nbformat_minor": 4
}
