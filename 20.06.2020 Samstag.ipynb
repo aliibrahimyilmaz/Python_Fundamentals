{
 "cells": [
  {
   "cell_type": "code",
   "execution_count": 1,
   "metadata": {},
   "outputs": [
    {
     "name": "stdout",
     "output_type": "stream",
     "text": [
      "5.0\n"
     ]
    }
   ],
   "source": [
    "a = 3\n",
    "b = 4\n",
    "c = (a ** 2 + b ** 2) ** 0.5\n",
    "print(c)\n"
   ]
  },
  {
   "cell_type": "code",
   "execution_count": 2,
   "metadata": {},
   "outputs": [
    {
     "name": "stdout",
     "output_type": "stream",
     "text": [
      "I am working with Phyton\n"
     ]
    }
   ],
   "source": [
    "print( 'I am working with Phyton')"
   ]
  },
  {
   "cell_type": "code",
   "execution_count": 4,
   "metadata": {},
   "outputs": [
    {
     "name": "stdout",
     "output_type": "stream",
     "text": [
      "I AM WORKING WITH PHYTON\n"
     ]
    }
   ],
   "source": [
    "text = 'I am working with Phyton'\n",
    "text_new = text.upper()\n",
    "print(text_new)"
   ]
  },
  {
   "cell_type": "code",
   "execution_count": 13,
   "metadata": {},
   "outputs": [
    {
     "name": "stdout",
     "output_type": "stream",
     "text": [
      "I am ALI 2\n"
     ]
    }
   ],
   "source": [
    "text1 = \"I\"\n",
    "text2 = \"am ALI\"\n",
    "amount = 2\n",
    "text3 = text1 + \" \" + text2 + \" \" +str(amount)\n",
    "#print(text3)\n",
    "print(text1, text2, amount)"
   ]
  },
  {
   "cell_type": "code",
   "execution_count": 18,
   "metadata": {},
   "outputs": [
    {
     "name": "stdout",
     "output_type": "stream",
     "text": [
      "value of x       :  5\n",
      "2 more of x      :  7 \n",
      "value of y       :  10\n"
     ]
    }
   ],
   "source": [
    "x = 5\n",
    "print('value of x       : ', x)\n",
    "\n",
    "x += 2\n",
    "print(\"2 more of x      : \", x, \"\\n\", end=\"\")\n",
    "\n",
    "y = 10\n",
    "print('value of y       : ', y)"
   ]
  },
  {
   "cell_type": "code",
   "execution_count": 15,
   "metadata": {},
   "outputs": [
    {
     "name": "stdout",
     "output_type": "stream",
     "text": [
      "2 more of x      :  7 \n",
      "\n"
     ]
    }
   ],
   "source": [
    "x += 2\n",
    "print(\"2 more of x      : \", x, \"\\n\")"
   ]
  },
  {
   "cell_type": "code",
   "execution_count": 27,
   "metadata": {},
   "outputs": [
    {
     "name": "stdout",
     "output_type": "stream",
     "text": [
      "C:\\nort\\h pole\\noise\n"
     ]
    }
   ],
   "source": [
    "print('C:\\\\nort\\h pole\\\\noise')"
   ]
  },
  {
   "cell_type": "code",
   "execution_count": 26,
   "metadata": {},
   "outputs": [
    {
     "name": "stdout",
     "output_type": "stream",
     "text": [
      "benim \\\\\\bugü\n",
      "\\ dogum günüm\n"
     ]
    }
   ],
   "source": [
    "print(\"benim \\\\\\\\\\\\bugü\\n\\ dogum günüm\")"
   ]
  },
  {
   "cell_type": "code",
   "execution_count": 37,
   "metadata": {},
   "outputs": [
    {
     "name": "stdout",
     "output_type": "stream",
     "text": [
      "Clarusway, Clarusway, Clarusway,\n",
      "\tClarusway, Clarusway, Clarusway,\n",
      "\t\tClarusway, Clarusway, Clarusway\n"
     ]
    }
   ],
   "source": [
    "text = \"Clarusway, Clarusway, Clarusway,\" + \"\\n\" + \"\\t\" + \"Clarusway, Clarusway, Clarusway,\" + \"\\n\" + \"\\t\" + \"\\t\" + \"Clarusway, Clarusway, Clarusway\"\n",
    "\n",
    "print(text)"
   ]
  },
  {
   "cell_type": "code",
   "execution_count": 40,
   "metadata": {},
   "outputs": [
    {
     "name": "stdout",
     "output_type": "stream",
     "text": [
      "[]\n"
     ]
    }
   ],
   "source": [
    "print(2 and [] and None and ())"
   ]
  },
  {
   "cell_type": "code",
   "execution_count": 64,
   "metadata": {},
   "outputs": [
    {
     "name": "stdout",
     "output_type": "stream",
     "text": [
      "ClaruswayClaruswayClarusway\n",
      "\tClaruswayClaruswayClarusway\n",
      "\tClaruswayClaruswayClarusway\n",
      "\t\t\n"
     ]
    }
   ],
   "source": [
    "Text = 3*(((3*'Clarusway,'+'\\n')+'\\t'))\n",
    "print (Text)"
   ]
  },
  {
   "cell_type": "code",
   "execution_count": 2,
   "metadata": {},
   "outputs": [
    {
     "data": {
      "text/plain": [
       "'my name is Tuna. Ich habe 2 Brüder. Mein Vater is 38 Jahre alt.'"
      ]
     },
     "execution_count": 2,
     "metadata": {},
     "output_type": "execute_result"
    }
   ],
   "source": [
    "\"my name is Tuna. Ich habe 2 Brüder. Mein Vater is 38 Jahre alt.\""
   ]
  },
  {
   "cell_type": "code",
   "execution_count": null,
   "metadata": {},
   "outputs": [],
   "source": [
    "\"my name is tuna. Ich habe 2 Brüder. Mein vater is 38 Jahre alt.\""
   ]
  }
 ],
 "metadata": {
  "kernelspec": {
   "display_name": "Python 3",
   "language": "python",
   "name": "python3"
  },
  "language_info": {
   "codemirror_mode": {
    "name": "ipython",
    "version": 3
   },
   "file_extension": ".py",
   "mimetype": "text/x-python",
   "name": "python",
   "nbconvert_exporter": "python",
   "pygments_lexer": "ipython3",
   "version": "3.7.6"
  }
 },
 "nbformat": 4,
 "nbformat_minor": 4
}
