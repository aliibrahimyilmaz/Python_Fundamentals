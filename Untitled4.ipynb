{
 "cells": [
  {
   "cell_type": "code",
   "execution_count": 1,
   "metadata": {},
   "outputs": [
    {
     "name": "stdout",
     "output_type": "stream",
     "text": [
      "1x0=0       1x1=1       1x2=2       1x3=3       1x4=4       1x5=5       1x6=6       1x7=7       1x8=8       1x9=9       1x10=10       2x0=0       2x1=2       2x2=4       2x3=6       2x4=8       2x5=10       2x6=12       2x7=14       2x8=16       2x9=18       2x10=20       3x0=0       3x1=3       3x2=6       3x3=9       3x4=12       3x5=15       3x6=18       3x7=21       3x8=24       3x9=27       3x10=30       4x0=0       4x1=4       4x2=8       4x3=12       4x4=16       4x5=20       4x6=24       4x7=28       4x8=32       4x9=36       4x10=40       5x0=0       5x1=5       5x2=10       5x3=15       5x4=20       5x5=25       5x6=30       5x7=35       5x8=40       5x9=45       5x10=50       6x0=0       6x1=6       6x2=12       6x3=18       6x4=24       6x5=30       6x6=36       6x7=42       6x8=48       6x9=54       6x10=60       7x0=0       7x1=7       7x2=14       7x3=21       7x4=28       7x5=35       7x6=42       7x7=49       7x8=56       7x9=63       7x10=70       8x0=0       8x1=8       8x2=16       8x3=24       8x4=32       8x5=40       8x6=48       8x7=56       8x8=64       8x9=72       8x10=80       9x0=0       9x1=9       9x2=18       9x3=27       9x4=36       9x5=45       9x6=54       9x7=63       9x8=72       9x9=81       9x10=90       10x0=0       10x1=10       10x2=20       10x3=30       10x4=40       10x5=50       10x6=60       10x7=70       10x8=80       10x9=90       10x10=100       "
     ]
    }
   ],
   "source": [
    "for i in range(1,11):\n",
    "    for ii in range(11):\n",
    "        print(f\"{i}x{ii}={i * ii}\", end =\"       \")"
   ]
  },
  {
   "cell_type": "markdown",
   "metadata": {},
   "source": [
    "text = \"{:>15}\".format(\"test\")   kelimeyi saga yanastir 15 karekterlik alanda\n",
    "text = \"{:<15}\".format(\"test\")   kelimeyi sola yanastir 15 karakterlik alanda\n",
    "text = \"{:^15}\".format(\"test\")   kelimeyi ortala15 karekterlik alanda"
   ]
  },
  {
   "cell_type": "code",
   "execution_count": 10,
   "metadata": {},
   "outputs": [
    {
     "name": "stdout",
     "output_type": "stream",
     "text": [
      "        1         \n",
      "       2 2        \n",
      "      3 3 3       \n",
      "     4 4 4 4      \n",
      "    5 5 5 5 5     \n",
      "   6 6 6 6 6 6    \n",
      "  7 7 7 7 7 7 7   \n",
      " 8 8 8 8 8 8 8 8  \n",
      "9 9 9 9 9 9 9 9 9 \n"
     ]
    }
   ],
   "source": [
    "for i in range(1,10):\n",
    "    print(\"{:^18}\".format((str(i)+' ')*i))"
   ]
  },
  {
   "cell_type": "code",
   "execution_count": null,
   "metadata": {},
   "outputs": [],
   "source": []
  }
 ],
 "metadata": {
  "kernelspec": {
   "display_name": "Python 3",
   "language": "python",
   "name": "python3"
  },
  "language_info": {
   "codemirror_mode": {
    "name": "ipython",
    "version": 3
   },
   "file_extension": ".py",
   "mimetype": "text/x-python",
   "name": "python",
   "nbconvert_exporter": "python",
   "pygments_lexer": "ipython3",
   "version": "3.7.6"
  }
 },
 "nbformat": 4,
 "nbformat_minor": 4
}
