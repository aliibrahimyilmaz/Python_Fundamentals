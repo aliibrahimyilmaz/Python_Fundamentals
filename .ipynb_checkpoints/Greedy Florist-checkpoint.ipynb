{
 "cells": [
  {
   "cell_type": "code",
   "execution_count": 4,
   "metadata": {},
   "outputs": [
    {
     "name": "stdout",
     "output_type": "stream",
     "text": [
      "3 3\n",
      "1 2 3\n",
      "{0: 12, 1: 12, 2: 12}\n"
     ]
    }
   ],
   "source": [
    "def getMinimumCost(k, c):\n",
    "    new_dict = {}\n",
    "    count = 0\n",
    "    while i < k:\n",
    "        min_cost = 0\n",
    "        min_cost = (count + 1) * c[-j-1] \n",
    "        min_cost = min_cost + (count + 1) * c[j]\n",
    "        count += 1\n",
    "        i += 1\n",
    "        new_dict[i] = min_cost\n",
    "    return new_dict\n",
    "\n",
    "nk = input().split()\n",
    "\n",
    "n = int(nk[0])\n",
    "\n",
    "k = int(nk[1])\n",
    "\n",
    "c = list(map(int, input().rstrip().split()))\n",
    "\n",
    "minimumCost = getMinimumCost(k, c)\n",
    "\n",
    "print(minimumCost)"
   ]
  },
  {
   "cell_type": "code",
   "execution_count": null,
   "metadata": {},
   "outputs": [],
   "source": []
  }
 ],
 "metadata": {
  "kernelspec": {
   "display_name": "Python 3",
   "language": "python",
   "name": "python3"
  },
  "language_info": {
   "codemirror_mode": {
    "name": "ipython",
    "version": 3
   },
   "file_extension": ".py",
   "mimetype": "text/x-python",
   "name": "python",
   "nbconvert_exporter": "python",
   "pygments_lexer": "ipython3",
   "version": "3.7.6"
  }
 },
 "nbformat": 4,
 "nbformat_minor": 4
}
