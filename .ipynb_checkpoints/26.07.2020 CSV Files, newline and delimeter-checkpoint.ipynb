{
 "cells": [
  {
   "cell_type": "code",
   "execution_count": 2,
   "metadata": {},
   "outputs": [
    {
     "name": "stdout",
     "output_type": "stream",
     "text": [
      "column 1,column 2,column 3\n",
      "first row 1,first row 2,first row 3\n",
      "second row 1,second row 2,second row 3\n",
      "third row 1,third row 2,third row 3\n"
     ]
    }
   ],
   "source": [
    "with open(\"test.csv\", \"r\") as file:\n",
    "    print(file.read())"
   ]
  },
  {
   "cell_type": "code",
   "execution_count": 5,
   "metadata": {},
   "outputs": [
    {
     "name": "stdout",
     "output_type": "stream",
     "text": [
      "row number, first name, last name, ages\n",
      "1, yasar, yilmaz, 72\n",
      "2, keziban, yilmaz, 62\n",
      "3, canan, yilmaz, 45\n",
      "4, nuran, yilmaz, 43\n",
      "5, gülsüm, yilmaz, 41\n"
     ]
    }
   ],
   "source": [
    "with open(\"people.csv\", \"r\", encoding=\"utf-8\") as file:\n",
    "    print(file.read())"
   ]
  },
  {
   "cell_type": "code",
   "execution_count": 6,
   "metadata": {},
   "outputs": [],
   "source": [
    "import csv"
   ]
  },
  {
   "cell_type": "code",
   "execution_count": 18,
   "metadata": {
    "scrolled": true
   },
   "outputs": [
    {
     "name": "stdout",
     "output_type": "stream",
     "text": [
      "['row number', ' first name', ' last name', ' ages']\n",
      "['1', ' yasar', ' yilmaz', ' 72']\n",
      "['2', ' keziban', ' yilmaz', ' 62']\n",
      "['3', ' canan', ' yilmaz', ' 45']\n",
      "['4', ' nuran', ' yilmaz', ' 43']\n",
      "['5', ' gülsüm', ' yilmaz', ' 41']\n"
     ]
    }
   ],
   "source": [
    "with open(\"people.csv\", \"r\", newline = \"\", encoding=\"utf-8\") as file:\n",
    "    csv_rows = csv.reader(file)  # creates list for every lines, delimiter = \",\" ayirac default\n",
    "    [print(i) for i in csv_rows]"
   ]
  },
  {
   "cell_type": "code",
   "execution_count": 26,
   "metadata": {
    "scrolled": true
   },
   "outputs": [
    {
     "name": "stdout",
     "output_type": "stream",
     "text": [
      "['row number', ' first name', ' last name', ' ages']\n",
      "['1', ' yasar', ' yilmaz', ' 72']\n",
      "['2', ' keziban', ' yilmaz', ' 62']\n",
      "['3', ' canan', ' yilmaz', ' 45']\n",
      "['4', ' nuran', ' yilmaz', ' 43']\n",
      "['5', ' gülsüm', ' yilmaz', ' 41']\n"
     ]
    }
   ],
   "source": [
    "with open(\"people.csv\", \"r\", newline = \"\", encoding=\"utf-8\") as file:\n",
    "    csv_rows = csv.reader(file, delimiter = \",\")  # creates list for every lines\n",
    "                                        # delimiter = \",\" ayirac default kabul edilir, dosya nasilsa öyle olmali\n",
    "    [print(i) for i in csv_rows]"
   ]
  },
  {
   "cell_type": "code",
   "execution_count": 24,
   "metadata": {},
   "outputs": [
    {
     "name": "stdout",
     "output_type": "stream",
     "text": [
      "abc\r",
      "her\n",
      "ghi\r",
      "kese\n",
      "ccc\r",
      "selam\n"
     ]
    }
   ],
   "source": [
    "print(\"abc\\rher\\nghi\\rkese\\nccc\\rselam\")  # \\r ---> carriage return, kürsor basa gidiyor. "
   ]
  },
  {
   "cell_type": "code",
   "execution_count": 33,
   "metadata": {},
   "outputs": [
    {
     "name": "stdout",
     "output_type": "stream",
     "text": [
      "['row number', ' first name', ' last name', ' ages']\n",
      "['1', ' yasar', ' yilmaz', ' 72']\n",
      "['2', ' keziban', ' yilmaz', ' 62']\n",
      "['3', ' canan', ' yilmaz', ' 45']\n",
      "['4', ' nuran', ' yilmaz', ' 43']\n",
      "['5', ' gülsüm', ' yilmaz', ' 41']\n"
     ]
    }
   ],
   "source": [
    "with open(\"people.csv\", \"r\", newline = \"\", encoding=\"utf-8\") as file:\n",
    "    csv_rows = csv.reader(file, delimiter = \",\")  # creates list for every lines\n",
    "                                        # delimiter = \",\" , gördügü yerlerden bölerek yeni stringler olusturuyor\n",
    "    [print(i) for i in csv_rows]"
   ]
  },
  {
   "cell_type": "code",
   "execution_count": null,
   "metadata": {},
   "outputs": [],
   "source": []
  }
 ],
 "metadata": {
  "kernelspec": {
   "display_name": "Python 3",
   "language": "python",
   "name": "python3"
  },
  "language_info": {
   "codemirror_mode": {
    "name": "ipython",
    "version": 3
   },
   "file_extension": ".py",
   "mimetype": "text/x-python",
   "name": "python",
   "nbconvert_exporter": "python",
   "pygments_lexer": "ipython3",
   "version": "3.7.6"
  }
 },
 "nbformat": 4,
 "nbformat_minor": 4
}
