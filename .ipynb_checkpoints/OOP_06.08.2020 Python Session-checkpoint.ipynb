{
 "cells": [
  {
   "cell_type": "code",
   "execution_count": 51,
   "metadata": {},
   "outputs": [],
   "source": [
    "class Employee:\n",
    "    \n",
    "    raise_amnt = 1.04  # class variable\n",
    "    \n",
    "    def __init__(self, firstName, lastName, email, pay):\n",
    "        self.firstName = firstName\n",
    "        self.lastName = lastName\n",
    "        self.email = email\n",
    "        self.pay = pay\n",
    "    \n",
    "    def fullname(self):\n",
    "        return self.firstName + \" \" + self.lastName\n",
    "    \n",
    "    def apply_raise(self):\n",
    "        self.pay = int(self.pay * self.raise_amnt)"
   ]
  },
  {
   "cell_type": "code",
   "execution_count": 52,
   "metadata": {},
   "outputs": [],
   "source": [
    "emp_1 = Employee(\"Martin\", \"Lane\", \"martin.lane@clarusway.com\", 4000)"
   ]
  },
  {
   "cell_type": "code",
   "execution_count": 53,
   "metadata": {},
   "outputs": [],
   "source": [
    "Employee.raise_amnt = 1.06"
   ]
  },
  {
   "cell_type": "code",
   "execution_count": 54,
   "metadata": {},
   "outputs": [],
   "source": [
    "emp_1.raise_amnt = 1.07"
   ]
  },
  {
   "cell_type": "code",
   "execution_count": 55,
   "metadata": {
    "scrolled": true
   },
   "outputs": [
    {
     "name": "stdout",
     "output_type": "stream",
     "text": [
      "1.07\n"
     ]
    }
   ],
   "source": [
    "print(emp_1.raise_amnt)"
   ]
  },
  {
   "cell_type": "code",
   "execution_count": null,
   "metadata": {},
   "outputs": [],
   "source": []
  },
  {
   "cell_type": "code",
   "execution_count": null,
   "metadata": {},
   "outputs": [],
   "source": []
  },
  {
   "cell_type": "code",
   "execution_count": 56,
   "metadata": {},
   "outputs": [
    {
     "name": "stdout",
     "output_type": "stream",
     "text": [
      "Martin\n"
     ]
    }
   ],
   "source": [
    "print(emp_1.firstName)"
   ]
  },
  {
   "cell_type": "code",
   "execution_count": 57,
   "metadata": {},
   "outputs": [
    {
     "name": "stdout",
     "output_type": "stream",
     "text": [
      "1.06\n"
     ]
    }
   ],
   "source": [
    "print(Employee.raise_amnt)"
   ]
  },
  {
   "cell_type": "code",
   "execution_count": 58,
   "metadata": {},
   "outputs": [
    {
     "name": "stdout",
     "output_type": "stream",
     "text": [
      "Lane\n"
     ]
    }
   ],
   "source": [
    "print(emp_1.lastName)"
   ]
  },
  {
   "cell_type": "code",
   "execution_count": 59,
   "metadata": {},
   "outputs": [
    {
     "data": {
      "text/plain": [
       "'Martin Lane'"
      ]
     },
     "execution_count": 59,
     "metadata": {},
     "output_type": "execute_result"
    }
   ],
   "source": [
    "emp_1.fullname()"
   ]
  },
  {
   "cell_type": "code",
   "execution_count": 60,
   "metadata": {},
   "outputs": [],
   "source": [
    "emp_2 = Employee(\"Martin2\", \"Lane2\", \"martin2.lane2@clarusway.com\", 5000)"
   ]
  },
  {
   "cell_type": "code",
   "execution_count": 61,
   "metadata": {},
   "outputs": [
    {
     "name": "stdout",
     "output_type": "stream",
     "text": [
      "1.06\n"
     ]
    }
   ],
   "source": [
    "print(emp_2.raise_amnt)"
   ]
  },
  {
   "cell_type": "code",
   "execution_count": 62,
   "metadata": {},
   "outputs": [
    {
     "name": "stdout",
     "output_type": "stream",
     "text": [
      "{'firstName': 'Martin', 'lastName': 'Lane', 'email': 'martin.lane@clarusway.com', 'pay': 4000, 'raise_amnt': 1.07}\n"
     ]
    }
   ],
   "source": [
    "print(emp_1.__dict__)"
   ]
  },
  {
   "cell_type": "code",
   "execution_count": 65,
   "metadata": {},
   "outputs": [
    {
     "name": "stdout",
     "output_type": "stream",
     "text": [
      "4280\n",
      "5618\n"
     ]
    }
   ],
   "source": [
    "print(emp_1.pay)\n",
    "print(emp_2.pay)"
   ]
  },
  {
   "cell_type": "code",
   "execution_count": 89,
   "metadata": {},
   "outputs": [],
   "source": [
    "class Employee:\n",
    "    \n",
    "    raise_amnt = 1.04  # class variable\n",
    "    \n",
    "    def __init__(self, firstName, lastName, email, pay):  # regular method, self objecti temsil ediyor\n",
    "        self.firstName = firstName\n",
    "        self.lastName = lastName\n",
    "        self.email = email\n",
    "        self.pay = pay\n",
    "    \n",
    "    def fullname(self):  # regular method\n",
    "        return self.firstName + \" \" + self.lastName\n",
    "    \n",
    "    def apply_raise(self):  # regular method\n",
    "        self.pay = int(self.pay * self.raise_amnt)\n",
    "        \n",
    "    @classmethod\n",
    "    def set_raise_amt(cls, amount):  # cls classi temsil etmektedir, classin genelinde bi degisiklik yapmak istersek\n",
    "        cls.raise_amnt = amount\n",
    "        "
   ]
  },
  {
   "cell_type": "code",
   "execution_count": 90,
   "metadata": {},
   "outputs": [],
   "source": [
    "emp_1 = Employee(\"martin\", \"lane\", \"martin@clarusway.com\", 4000)\n",
    "emp_2 = Employee(\"martin2\", \"lane2\", \"martin2@clarusway.com\", 5000)"
   ]
  },
  {
   "cell_type": "code",
   "execution_count": 91,
   "metadata": {},
   "outputs": [],
   "source": [
    "Employee.set_raise_amt(1.10)  # class üzerinden degisiklik yapildigindan tüm objeler etkileniyor."
   ]
  },
  {
   "cell_type": "code",
   "execution_count": 92,
   "metadata": {},
   "outputs": [
    {
     "name": "stdout",
     "output_type": "stream",
     "text": [
      "1.1\n",
      "1.1\n",
      "1.1\n"
     ]
    }
   ],
   "source": [
    "print(Employee.raise_amnt)\n",
    "print(emp_1.raise_amnt)\n",
    "print(emp_2.raise_amnt)"
   ]
  },
  {
   "cell_type": "code",
   "execution_count": 93,
   "metadata": {},
   "outputs": [],
   "source": [
    "Employee.raise_amnt = 2"
   ]
  },
  {
   "cell_type": "code",
   "execution_count": 94,
   "metadata": {},
   "outputs": [
    {
     "name": "stdout",
     "output_type": "stream",
     "text": [
      "2\n",
      "2\n",
      "2\n"
     ]
    }
   ],
   "source": [
    "print(Employee.raise_amnt)\n",
    "print(emp_1.raise_amnt)\n",
    "print(emp_2.raise_amnt)"
   ]
  },
  {
   "cell_type": "code",
   "execution_count": 95,
   "metadata": {},
   "outputs": [],
   "source": [
    "emp_1.set_raise_amt(3.1)"
   ]
  },
  {
   "cell_type": "code",
   "execution_count": 96,
   "metadata": {},
   "outputs": [
    {
     "name": "stdout",
     "output_type": "stream",
     "text": [
      "3.1\n",
      "3.1\n",
      "3.1\n"
     ]
    }
   ],
   "source": [
    "print(Employee.raise_amnt)\n",
    "print(emp_1.raise_amnt)\n",
    "print(emp_2.raise_amnt)"
   ]
  },
  {
   "cell_type": "code",
   "execution_count": 97,
   "metadata": {},
   "outputs": [],
   "source": [
    "class Employee:\n",
    "    \n",
    "    raise_amnt = 1.04  # class variable\n",
    "    \n",
    "    def __init__(self, firstName, lastName, email, pay):  # regular method, self objecti temsil ediyor\n",
    "        self.firstName = firstName\n",
    "        self.lastName = lastName\n",
    "        self.email = email\n",
    "        self.pay = pay\n",
    "    \n",
    "    def fullname(self):  # regular method\n",
    "        return self.firstName + \" \" + self.lastName\n",
    "    \n",
    "    def apply_raise(self):  # regular method\n",
    "        self.pay = int(self.pay * self.raise_amnt)\n",
    "        \n",
    "    @classmethod\n",
    "    def set_raise_amt(cls, amount):  # cls classi temsil etmektedir, classin genelinde bi degisiklik yapmak istersek\n",
    "        cls.raise_amnt = amount\n",
    "    \n",
    "    @classmethod\n",
    "    def from_string(cls, emp_str):  # cls, tüm classa hakimdir. self ise sadece objecte hakimdir\n",
    "        firstName, lastName, email, pay = emp_str.split(\"-\")\n",
    "        return cls(firstName, lastName, email, pay)  # objeyi döndürüyor "
   ]
  },
  {
   "cell_type": "code",
   "execution_count": 98,
   "metadata": {},
   "outputs": [],
   "source": [
    "emp_str_1 = \"Martin-Lane-martin@clarusway.com-5000\""
   ]
  },
  {
   "cell_type": "code",
   "execution_count": 99,
   "metadata": {},
   "outputs": [],
   "source": [
    "new_emp_1 = Employee.from_string(emp_str_1)"
   ]
  },
  {
   "cell_type": "code",
   "execution_count": 100,
   "metadata": {},
   "outputs": [
    {
     "name": "stdout",
     "output_type": "stream",
     "text": [
      "martin@clarusway.com\n"
     ]
    }
   ],
   "source": [
    "print(new_emp_1.email)"
   ]
  },
  {
   "cell_type": "code",
   "execution_count": 101,
   "metadata": {},
   "outputs": [],
   "source": [
    "new_emp_1_1 = Employee(new_emp_1.firstName, new_emp_1.lastName, new_emp_1.email, new_emp_1.pay)"
   ]
  },
  {
   "cell_type": "code",
   "execution_count": 103,
   "metadata": {},
   "outputs": [
    {
     "name": "stdout",
     "output_type": "stream",
     "text": [
      "martin@clarusway.com\n"
     ]
    }
   ],
   "source": [
    "print(new_emp_1_1.email)"
   ]
  },
  {
   "cell_type": "code",
   "execution_count": 107,
   "metadata": {},
   "outputs": [],
   "source": [
    "class Employee:\n",
    "    \n",
    "    raise_amnt = 1.04  # class variable\n",
    "    \n",
    "    def __init__(self, firstName, lastName, email, pay):  # regular method, self objecti temsil ediyor\n",
    "        self.firstName = firstName\n",
    "        self.lastName = lastName\n",
    "        self.email = email\n",
    "        self.pay = pay\n",
    "    \n",
    "    def fullname(self):  # regular method\n",
    "        return self.firstName + \" \" + self.lastName\n",
    "    \n",
    "    def apply_raise(self):  # regular method\n",
    "        self.pay = int(self.pay * self.raise_amnt)\n",
    "        \n",
    "    @classmethod\n",
    "    def set_raise_amt(cls, amount):  # cls classi temsil etmektedir, classin genelinde bi degisiklik yapmak istersek\n",
    "        cls.raise_amnt = amount\n",
    "    \n",
    "    @classmethod\n",
    "    def from_string(cls, emp_str):  # cls, tüm classa hakimdir. self ise sadece objecte hakimdir\n",
    "        firstName, lastName, email, pay = emp_str.split(\"-\")\n",
    "        return cls(firstName, lastName, email, pay)  # objeyi döndürüyor \n",
    "    \n",
    "    @staticmethod  # classin attributelarina ulasamiyor ama class adiyla cagrilabiliyorl, cls olmayacak\n",
    "    def is_workday(date):  # classin attributelarina ulasmayacak\n",
    "        if date.weekday() == 5 or date.weekday() == 6:\n",
    "            return False\n",
    "        return True\n",
    "        "
   ]
  },
  {
   "cell_type": "code",
   "execution_count": 110,
   "metadata": {},
   "outputs": [],
   "source": [
    "import datetime\n",
    "my_date = datetime.date(2020, 8, 6)\n",
    "my_date_2 = datetime.date(2020, 8, 8)"
   ]
  },
  {
   "cell_type": "code",
   "execution_count": 113,
   "metadata": {},
   "outputs": [
    {
     "name": "stdout",
     "output_type": "stream",
     "text": [
      "True\n",
      "False\n"
     ]
    }
   ],
   "source": [
    "print(Employee.is_workday((my_date)))\n",
    "print(Employee.is_workday((my_date_2)))"
   ]
  },
  {
   "cell_type": "code",
   "execution_count": null,
   "metadata": {},
   "outputs": [],
   "source": []
  }
 ],
 "metadata": {
  "kernelspec": {
   "display_name": "Python 3",
   "language": "python",
   "name": "python3"
  },
  "language_info": {
   "codemirror_mode": {
    "name": "ipython",
    "version": 3
   },
   "file_extension": ".py",
   "mimetype": "text/x-python",
   "name": "python",
   "nbconvert_exporter": "python",
   "pygments_lexer": "ipython3",
   "version": "3.7.6"
  }
 },
 "nbformat": 4,
 "nbformat_minor": 4
}
