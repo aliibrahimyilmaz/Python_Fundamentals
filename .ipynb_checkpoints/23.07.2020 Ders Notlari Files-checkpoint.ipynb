{
 "cells": [
  {
   "cell_type": "code",
   "execution_count": 4,
   "metadata": {
    "scrolled": true
   },
   "outputs": [
    {
     "name": "stdout",
     "output_type": "stream",
     "text": [
      "I want to sing\n",
      "\n",
      "Like the birds sing,\n",
      "\n",
      "Not worrying about\n",
      "\n"
     ]
    }
   ],
   "source": [
    "with open(\"rumi.txt\", \"r\") as file:\n",
    "    print(file.readline())\n",
    "    print(file.readline())\n",
    "    print(file.readline(18))"
   ]
  },
  {
   "cell_type": "code",
   "execution_count": 13,
   "metadata": {},
   "outputs": [
    {
     "name": "stdout",
     "output_type": "stream",
     "text": [
      "I want to sing\n",
      "\n",
      "['Like the birds sing,\\n', 'Not worrying about\\n', 'Who hears or\\n', 'What they think.']\n"
     ]
    }
   ],
   "source": [
    "with open(\"rumi.txt\", \"r\") as file:\n",
    "    print(file.readline())\n",
    "    print(file.readlines())\n",
    "    for i in file:\n",
    "        print(i[:-1])"
   ]
  },
  {
   "cell_type": "code",
   "execution_count": 16,
   "metadata": {},
   "outputs": [],
   "source": [
    "with open(\"dummy.txt\", \"w\", encoding=\"utf-8\") as file:\n",
    "    file.write(\"Das ist meine erste Datei\\n\")"
   ]
  },
  {
   "cell_type": "code",
   "execution_count": 24,
   "metadata": {},
   "outputs": [],
   "source": [
    "with open(\"dummy.txt\", \"a\", encoding=\"utf-8\") as file:\n",
    "    file.write(\"Das ist meine erste Einlage\\n\")"
   ]
  },
  {
   "cell_type": "code",
   "execution_count": 25,
   "metadata": {},
   "outputs": [],
   "source": [
    "fruits = [\"Banana\", \"Orange\", \"Apple\", \"Strawberry\", \"Cherry\"]"
   ]
  },
  {
   "cell_type": "code",
   "execution_count": 31,
   "metadata": {},
   "outputs": [
    {
     "name": "stdout",
     "output_type": "stream",
     "text": [
      "Banana\n",
      "\n",
      "Orange\n",
      "\n",
      "Apple\n",
      "\n",
      "Strawberry\n",
      "\n",
      "Cherry\n",
      "\n",
      "\n"
     ]
    }
   ],
   "source": [
    "with open(\"fruits.txt\", \"w\", encoding=\"utf-8\") as file:\n",
    "    for i in fruits:\n",
    "        file.write(i + \"\\n\\n\")\n",
    "with open(\"fruits.txt\", \"r\", encoding=\"utf-8\") as file:\n",
    "    print(file.read())"
   ]
  },
  {
   "cell_type": "code",
   "execution_count": 36,
   "metadata": {},
   "outputs": [],
   "source": [
    "fruits_2 = [\"Banana\\n\", \"Orange\\n\", \"Apple\\n\", \"Strawberry\\n\", \"Cherry\\n\"]"
   ]
  },
  {
   "cell_type": "code",
   "execution_count": 41,
   "metadata": {},
   "outputs": [],
   "source": [
    "with open(\"fruits_2.txt\", \"w\", encoding=\"utf-8\") as file:\n",
    "    file.writelines(fruits_2)"
   ]
  },
  {
   "cell_type": "code",
   "execution_count": 42,
   "metadata": {},
   "outputs": [
    {
     "name": "stdout",
     "output_type": "stream",
     "text": [
      "Banana\n",
      "Orange\n",
      "Apple\n",
      "Strawberry\n",
      "Cherry\n",
      "\n"
     ]
    }
   ],
   "source": [
    "with open(\"fruits_2.txt\", \"r\", encoding=\"utf-8\") as file:\n",
    "    print(file.read())"
   ]
  },
  {
   "cell_type": "code",
   "execution_count": 45,
   "metadata": {},
   "outputs": [],
   "source": [
    "with open(\"fruits_2.txt\", \"a\", encoding=\"utf-8\") as file:\n",
    "    file.write(\"Melon\\n\")"
   ]
  },
  {
   "cell_type": "code",
   "execution_count": 47,
   "metadata": {},
   "outputs": [
    {
     "name": "stdout",
     "output_type": "stream",
     "text": [
      "['Banana\\n', 'Orange\\n', 'Apple\\n', 'Strawberry\\n', 'Cherry\\n', 'melonMelon']\n"
     ]
    }
   ],
   "source": [
    "with open(\"fruits_2.txt\", \"r\", encoding=\"utf-8\") as file:\n",
    "    print(file.readlines())"
   ]
  },
  {
   "cell_type": "code",
   "execution_count": 55,
   "metadata": {},
   "outputs": [
    {
     "name": "stdout",
     "output_type": "stream",
     "text": [
      "['Korkma, sönmez bu şafaklarda yüzen al sancak;\\n', 'Sönmeden yurdumun üstünde tüten en son ocak.\\n', 'O benim milletimin yıldızıdır, parlayacak;\\n', 'O benimdir, o benim milletimindir ancak.\\n', '\\n', 'Çatma, kurban olayım, çehreni ey nazlı hilal!\\n', 'Kahraman ırkıma bir gül! Ne bu şiddet, bu celal?\\n', 'Sana olmaz dökülen kanlarımız sonra helal...\\n', \"Hakkıdır, hakk'a tapan, milletimin istiklal!\\n\", '\\n', 'Ben ezelden beridir hür yaşadım, hür yaşarım.\\n', 'Hangi çılgın bana zincir vuracakmış? Şaşarım!\\n', 'Kükremiş sel gibiyim, bendimi çiğner, aşarım.\\n', 'Yırtarım dağları, enginlere sığmam, taşarım.\\n', '\\n', 'Garbın afakını sarmışsa çelik zırhlı duvar,\\n', 'Benim iman dolu göğsüm gibi serhaddim var.\\n', 'Ulusun, korkma! Nasıl böyle bir imanı boğar,\\n', \"'Medeniyet!' dediğin tek dişi kalmış canavar?\\n\", '\\n', 'Arkadaş! Yurduma alçakları uğratma, sakın.\\n', 'Siper et gövdeni, dursun bu hayasızca akın.\\n', \"Doğacaktır sana va'dettigi günler hakk'ın...\\n\", 'Kim bilir, belki yarın, belki yarından da yakın.\\n', '\\n', \"Bastığın yerleri 'toprak!' diyerek geçme, tanı:\\n\", 'Düşün altında binlerce kefensiz yatanı.\\n', 'Sen şehit oğlusun, incitme, yazıktır, atanı:\\n', 'Verme, dünyaları alsan da, bu cennet vatanı.\\n', '\\n', 'Kim bu cennet vatanın uğruna olmaz ki feda?\\n', 'Şuheda fışkıracak toprağı sıksan, şuheda!\\n', 'Canı, cananı, bütün varımı alsın da hüda,\\n', 'Etmesin tek vatanımdan beni dünyada cüda.\\n', '\\n', 'Ruhumun senden, ilahi, şudur ancak emeli:\\n', 'Değmesin mabedimin göğsüne namahrem eli.\\n', 'Bu ezanlar-ki şahadetleri dinin temeli,\\n', 'Ebedi yurdumun üstünde benim inlemeli.\\n']\n"
     ]
    }
   ],
   "source": [
    "with open(\"istiklal.txt\", \"r\", encoding = \"utf-8\") as file:\n",
    "    my_list = file.readlines()\n",
    "    print(my_list)"
   ]
  },
  {
   "cell_type": "code",
   "execution_count": 54,
   "metadata": {
    "scrolled": true
   },
   "outputs": [
    {
     "name": "stdout",
     "output_type": "stream",
     "text": [
      "Korkma, sönmez bu şafaklarda yüzen al sancak;\n",
      "Sönmeden yurdumun üstünde tüten en son ocak.\n",
      "O benim milletimin yıldızıdır, parlayacak;\n",
      "O benimdir, o benim milletimindir ancak.\n",
      "\n",
      "Çatma, kurban olayım, çehreni ey nazlı hilal!\n",
      "Kahraman ırkıma bir gül! Ne bu şiddet, bu celal?\n",
      "Sana olmaz dökülen kanlarımız sonra helal...\n",
      "Hakkıdır, hakk'a tapan, milletimin istiklal!\n",
      "\n",
      "Ben ezelden beridir hür yaşadım, hür yaşarım.\n",
      "Hangi çılgın bana zincir vuracakmış? Şaşarım!\n",
      "Kükremiş sel gibiyim, bendimi çiğner, aşarım.\n",
      "Yırtarım dağları, enginlere sığmam, taşarım.\n",
      "\n",
      "Garbın afakını sarmışsa çelik zırhlı duvar,\n",
      "Benim iman dolu göğsüm gibi serhaddim var.\n",
      "Ulusun, korkma! Nasıl böyle bir imanı boğar,\n",
      "'Medeniyet!' dediğin tek dişi kalmış canavar?\n",
      "\n",
      "Arkadaş! Yurduma alçakları uğratma, sakın.\n",
      "Siper et gövdeni, dursun bu hayasızca akın.\n",
      "Doğacaktır sana va'dettigi günler hakk'ın...\n",
      "Kim bilir, belki yarın, belki yarından da yakın.\n",
      "\n",
      "Bastığın yerleri 'toprak!' diyerek geçme, tanı:\n",
      "Düşün altında binlerce kefensiz yatanı.\n",
      "Sen şehit oğlusun, incitme, yazıktır, atanı:\n",
      "Verme, dünyaları alsan da, bu cennet vatanı.\n",
      "\n",
      "Kim bu cennet vatanın uğruna olmaz ki feda?\n",
      "Şuheda fışkıracak toprağı sıksan, şuheda!\n",
      "Canı, cananı, bütün varımı alsın da hüda,\n",
      "Etmesin tek vatanımdan beni dünyada cüda.\n",
      "\n",
      "Ruhumun senden, ilahi, şudur ancak emeli:\n",
      "Değmesin mabedimin göğsüne namahrem eli.\n",
      "Bu ezanlar-ki şahadetleri dinin temeli,\n",
      "Ebedi yurdumun üstünde benim inlemeli.\n",
      "\n"
     ]
    }
   ],
   "source": [
    "count = 0\n",
    "with open(\"istiklal.txt\", \"w\", encoding = \"utf-8\") as file:\n",
    "    for i in my_list:\n",
    "        count += 1\n",
    "        file.write(i)\n",
    "        if count == 4:\n",
    "            file.write(\"\\n\")\n",
    "            count = 0\n",
    "with open(\"istiklal.txt\", \"r\", encoding = \"utf-8\") as file:\n",
    "    print(file.read())"
   ]
  },
  {
   "cell_type": "code",
   "execution_count": 60,
   "metadata": {},
   "outputs": [
    {
     "name": "stdout",
     "output_type": "stream",
     "text": [
      "Korkma, sönmez bu şafaklarda yüzen al sancak;\n",
      "Sönmeden yurdumun üstünde tüten en son ocak.\n",
      "O benim milletimin yıldızıdır, parlayacak;\n",
      "O benimdir, o benim milletimindir ancak.\n",
      "\n",
      "Çatma, kurban olayım, çehreni ey nazlı hilal!\n",
      "Kahraman ırkıma bir gül! Ne bu şiddet, bu celal?\n",
      "Sana olmaz dökülen kanlarımız sonra helal...\n",
      "Hakkıdır, hakk'a tapan, milletimin istiklal!\n",
      "\n",
      "Ben ezelden beridir hür yaşadım, hür yaşarım.\n",
      "Hangi çılgın bana zincir vuracakmış? Şaşarım!\n",
      "Kükremiş sel gibiyim, bendimi çiğner, aşarım.\n",
      "Yırtarım dağları, enginlere sığmam, taşarım.\n",
      "\n",
      "Garbın afakını sarmışsa çelik zırhlı duvar,\n",
      "Benim iman dolu göğsüm gibi serhaddim var.\n",
      "Ulusun, korkma! Nasıl böyle bir imanı boğar,\n",
      "'Medeniyet!' dediğin tek dişi kalmış canavar?\n",
      "\n",
      "Arkadaş! Yurduma alçakları uğratma, sakın.\n",
      "Siper et gövdeni, dursun bu hayasızca akın.\n",
      "Doğacaktır sana va'dettigi günler hakk'ın...\n",
      "Kim bilir, belki yarın, belki yarından da yakın.\n",
      "\n",
      "Bastığın yerleri 'toprak!' diyerek geçme, tanı:\n",
      "Düşün altında binlerce kefensiz yatanı.\n",
      "Sen şehit oğlusun, incitme, yazıktır, atanı:\n",
      "Verme, dünyaları alsan da, bu cennet vatanı.\n",
      "\n",
      "Kim bu cennet vatanın uğruna olmaz ki feda?\n",
      "Şuheda fışkıracak toprağı sıksan, şuheda!\n",
      "Canı, cananı, bütün varımı alsın da hüda,\n",
      "Etmesin tek vatanımdan beni dünyada cüda.\n",
      "\n",
      "Ruhumun senden, ilahi, şudur ancak emeli:\n",
      "Değmesin mabedimin göğsüne namahrem eli.\n",
      "Bu ezanlar-ki şahadetleri dinin temeli,\n",
      "Ebedi yurdumun üstünde benim inlemeli.\n",
      "\n",
      "Korkma, sönmez bu şafaklarda yüzen al sancak;\n",
      "Sönmeden yurdumun üstünde tüten en son ocak.\n",
      "O benim milletimin yıldızıdır, parlayacak;\n",
      "O benimdir, o benim milletimindir ancak.\n",
      "\n",
      "Çatma, kurban olayım, çehreni ey nazlı hilal!\n",
      "Kahraman ırkıma bir gül! Ne bu şiddet, bu celal?\n",
      "Sana olmaz dökülen kanlarımız sonra helal...\n",
      "Hakkıdır, hakk'a tapan, milletimin istiklal!\n",
      "\n",
      "Ben ezelden beridir hür yaşadım, hür yaşarım.\n",
      "Hangi çılgın bana zincir vuracakmış? Şaşarım!\n",
      "Kükremiş sel gibiyim, bendimi çiğner, aşarım.\n",
      "Yırtarım dağları, enginlere sığmam, taşarım.\n",
      "\n",
      "Garbın afakını sarmışsa çelik zırhlı duvar,\n",
      "Benim iman dolu göğsüm gibi serhaddim var.\n",
      "Ulusun, korkma! Nasıl böyle bir imanı boğar,\n",
      "'Medeniyet!' dediğin tek dişi kalmış canavar?\n",
      "\n",
      "Arkadaş! Yurduma alçakları uğratma, sakın.\n",
      "Siper et gövdeni, dursun bu hayasızca akın.\n",
      "Doğacaktır sana va'dettigi günler hakk'ın...\n",
      "Kim bilir, belki yarın, belki yarından da yakın.\n",
      "\n",
      "Bastığın yerleri 'toprak!' diyerek geçme, tanı:\n",
      "Düşün altında binlerce kefensiz yatanı.\n",
      "Sen şehit oğlusun, incitme, yazıktır, atanı:\n",
      "Verme, dünyaları alsan da, bu cennet vatanı.\n",
      "\n",
      "Kim bu cennet vatanın uğruna olmaz ki feda?\n",
      "Şuheda fışkıracak toprağı sıksan, şuheda!\n",
      "Canı, cananı, bütün varımı alsın da hüda,\n",
      "Etmesin tek vatanımdan beni dünyada cüda.\n",
      "\n",
      "Ruhumun senden, ilahi, şudur ancak emeli:\n",
      "Değmesin mabedimin göğsüne namahrem eli.\n",
      "Bu ezanlar-ki şahadetleri dinin temeli,\n",
      "Ebedi yurdumun üstünde benim inlemeli.\n",
      "\n",
      "Korkma, sönmez bu şafaklarda yüzen al sancak;\n",
      "Sönmeden yurdumun üstünde tüten en son ocak.\n",
      "O benim milletimin yıldızıdır, parlayacak;\n",
      "O benimdir, o benim milletimindir ancak.\n",
      "Çatma, kurban olayım, çehreni ey nazlı hilal!\n",
      "Kahraman ırkıma bir gül! Ne bu şiddet, bu celal?\n",
      "Sana olmaz dökülen kanlarımız sonra helal...\n",
      "Hakkıdır, hakk'a tapan, milletimin istiklal!\n",
      "Ben ezelden beridir hür yaşadım, hür yaşarım.\n",
      "Hangi çılgın bana zincir vuracakmış? Şaşarım!\n",
      "Kükremiş sel gibiyim, bendimi çiğner, aşarım.\n",
      "Yırtarım dağları, enginlere sığmam, taşarım.\n",
      "Garbın afakını sarmışsa çelik zırhlı duvar,\n",
      "Benim iman dolu göğsüm gibi serhaddim var.\n",
      "Ulusun, korkma! Nasıl böyle bir imanı boğar,\n",
      "'Medeniyet!' dediğin tek dişi kalmış canavar?\n",
      "Arkadaş! Yurduma alçakları uğratma, sakın.\n",
      "Siper et gövdeni, dursun bu hayasızca akın.\n",
      "Doğacaktır sana va'dettigi günler hakk'ın...\n",
      "Kim bilir, belki yarın, belki yarından da yakın.\n",
      "Bastığın yerleri 'toprak!' diyerek geçme, tanı:\n",
      "Düşün altında binlerce kefensiz yatanı.\n",
      "Sen şehit oğlusun, incitme, yazıktır, atanı:\n",
      "Verme, dünyaları alsan da, bu cennet vatanı.\n",
      "Kim bu cennet vatanın uğruna olmaz ki feda?\n",
      "Şuheda fışkıracak toprağı sıksan, şuheda!\n",
      "Canı, cananı, bütün varımı alsın da hüda,\n",
      "Etmesin tek vatanımdan beni dünyada cüda.\n",
      "Ruhumun senden, ilahi, şudur ancak emeli:\n",
      "Değmesin mabedimin göğsüne namahrem eli.\n",
      "Bu ezanlar-ki şahadetleri dinin temeli,\n",
      "Ebedi yurdumun üstünde benim inlemeli.\n",
      "Korkma, sönmez bu şafaklarda yüzen al sancak;\n",
      "Sönmeden yurdumun üstünde tüten en son ocak.\n",
      "O benim milletimin yıldızıdır, parlayacak;\n",
      "O benimdir, o benim milletimindir ancak.\n",
      "Çatma, kurban olayım, çehreni ey nazlı hilal!\n",
      "Kahraman ırkıma bir gül! Ne bu şiddet, bu celal?\n",
      "Sana olmaz dökülen kanlarımız sonra helal...\n",
      "Hakkıdır, hakk'a tapan, milletimin istiklal!\n",
      "Ben ezelden beridir hür yaşadım, hür yaşarım.\n",
      "Hangi çılgın bana zincir vuracakmış? Şaşarım!\n",
      "Kükremiş sel gibiyim, bendimi çiğner, aşarım.\n",
      "Yırtarım dağları, enginlere sığmam, taşarım.\n",
      "Garbın afakını sarmışsa çelik zırhlı duvar,\n",
      "Benim iman dolu göğsüm gibi serhaddim var.\n",
      "Ulusun, korkma! Nasıl böyle bir imanı boğar,\n",
      "'Medeniyet!' dediğin tek dişi kalmış canavar?\n",
      "Arkadaş! Yurduma alçakları uğratma, sakın.\n",
      "Siper et gövdeni, dursun bu hayasızca akın.\n",
      "Doğacaktır sana va'dettigi günler hakk'ın...\n",
      "Kim bilir, belki yarın, belki yarından da yakın.\n",
      "Bastığın yerleri 'toprak!' diyerek geçme, tanı:\n",
      "Düşün altında binlerce kefensiz yatanı.\n",
      "Sen şehit oğlusun, incitme, yazıktır, atanı:\n",
      "Verme, dünyaları alsan da, bu cennet vatanı.\n",
      "Kim bu cennet vatanın uğruna olmaz ki feda?\n",
      "Şuheda fışkıracak toprağı sıksan, şuheda!\n",
      "Canı, cananı, bütün varımı alsın da hüda,\n",
      "Etmesin tek vatanımdan beni dünyada cüda.\n",
      "Ruhumun senden, ilahi, şudur ancak emeli:\n",
      "Değmesin mabedimin göğsüne namahrem eli.\n",
      "Bu ezanlar-ki şahadetleri dinin temeli,\n",
      "Ebedi yurdumun üstünde benim inlemeli.\n",
      "\n"
     ]
    }
   ],
   "source": [
    "with open(\"istiklal.txt\", \"r\", encoding = \"utf-8\") as file:\n",
    "    my_newfile = file.readlines()\n",
    "    \n",
    "with open(\"istiklal.txt\", \"a\", encoding = \"utf-8\") as file:\n",
    "    file.write(\"\\n\")\n",
    "    for i in my_newfile:\n",
    "        if i == \"\\n\":\n",
    "            i.replace(\"\\n\", \"\")\n",
    "        else:\n",
    "            file.write(i)\n",
    "\n",
    "with open(\"istiklal.txt\", \"r\", encoding = \"utf-8\") as file:\n",
    "    print(file.read())"
   ]
  },
  {
   "cell_type": "code",
   "execution_count": null,
   "metadata": {},
   "outputs": [],
   "source": []
  }
 ],
 "metadata": {
  "kernelspec": {
   "display_name": "Python 3",
   "language": "python",
   "name": "python3"
  },
  "language_info": {
   "codemirror_mode": {
    "name": "ipython",
    "version": 3
   },
   "file_extension": ".py",
   "mimetype": "text/x-python",
   "name": "python",
   "nbconvert_exporter": "python",
   "pygments_lexer": "ipython3",
   "version": "3.7.6"
  }
 },
 "nbformat": 4,
 "nbformat_minor": 4
}
