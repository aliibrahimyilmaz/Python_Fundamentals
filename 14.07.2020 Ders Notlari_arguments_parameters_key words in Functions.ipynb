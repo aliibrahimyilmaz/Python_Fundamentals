{
 "cells": [
  {
   "cell_type": "code",
   "execution_count": 6,
   "metadata": {},
   "outputs": [],
   "source": [
    "def texter(t1, t2, t3):\n",
    "    print(f\"{t2} {t3} {t1}\")"
   ]
  },
  {
   "cell_type": "code",
   "execution_count": 8,
   "metadata": {},
   "outputs": [
    {
     "name": "stdout",
     "output_type": "stream",
     "text": [
      "i love you\n",
      "i love you\n"
     ]
    }
   ],
   "source": [
    "a = \"i\"\n",
    "b = \"love\"\n",
    "c = \"you\"\n",
    "\n",
    "texter(t1=c, t2=a, t3=b)\n",
    "texter(t3=b, t1=c, t2=a)"
   ]
  },
  {
   "cell_type": "code",
   "execution_count": 9,
   "metadata": {},
   "outputs": [],
   "source": [
    "def parrot(voltage, state='a stiff', action='voom', type='Norwegian Blue'):\n",
    "    print(\"-- This parrot wouldn't\", action, end=' ')\n",
    "    print(\"if you put\", voltage, \"volts through it.\")\n",
    "    print(\"-- Lovely plumage, the\", type)\n",
    "    print(\"-- It's\", state, \"!\")"
   ]
  },
  {
   "cell_type": "code",
   "execution_count": 10,
   "metadata": {},
   "outputs": [
    {
     "name": "stdout",
     "output_type": "stream",
     "text": [
      "-- This parrot wouldn't voom if you put 1000 volts through it.\n",
      "-- Lovely plumage, the Norwegian Blue\n",
      "-- It's a stiff !\n"
     ]
    }
   ],
   "source": [
    "parrot(1000)"
   ]
  },
  {
   "cell_type": "code",
   "execution_count": 11,
   "metadata": {},
   "outputs": [
    {
     "name": "stdout",
     "output_type": "stream",
     "text": [
      "-- This parrot wouldn't voom if you put 1000 volts through it.\n",
      "-- Lovely plumage, the Norwegian Blue\n",
      "-- It's a stiff !\n"
     ]
    }
   ],
   "source": [
    "parrot(voltage=1000)"
   ]
  },
  {
   "cell_type": "code",
   "execution_count": 12,
   "metadata": {},
   "outputs": [
    {
     "name": "stdout",
     "output_type": "stream",
     "text": [
      "-- This parrot wouldn't VOOOOOM if you put 10000000 volts through it.\n",
      "-- Lovely plumage, the Norwegian Blue\n",
      "-- It's a stiff !\n"
     ]
    }
   ],
   "source": [
    "parrot(voltage = 10000000, action = \"VOOOOOM\")"
   ]
  },
  {
   "cell_type": "code",
   "execution_count": 13,
   "metadata": {},
   "outputs": [
    {
     "ename": "SyntaxError",
     "evalue": "positional argument follows keyword argument (<ipython-input-13-bea258fcd9db>, line 1)",
     "output_type": "error",
     "traceback": [
      "\u001b[1;36m  File \u001b[1;32m\"<ipython-input-13-bea258fcd9db>\"\u001b[1;36m, line \u001b[1;32m1\u001b[0m\n\u001b[1;33m    parrot(action = \"VOOOOOM\", 100000)\u001b[0m\n\u001b[1;37m                              ^\u001b[0m\n\u001b[1;31mSyntaxError\u001b[0m\u001b[1;31m:\u001b[0m positional argument follows keyword argument\n"
     ]
    }
   ],
   "source": [
    "parrot(action = \"VOOOOOM\", 100000)"
   ]
  },
  {
   "cell_type": "code",
   "execution_count": 14,
   "metadata": {},
   "outputs": [
    {
     "name": "stdout",
     "output_type": "stream",
     "text": [
      "-- This parrot wouldn't jump if you put a million volts through it.\n",
      "-- Lovely plumage, the Norwegian Blue\n",
      "-- It's bereft of life !\n"
     ]
    }
   ],
   "source": [
    "parrot(\"a million\", \"bereft of life\", \"jump\")"
   ]
  },
  {
   "cell_type": "code",
   "execution_count": 15,
   "metadata": {},
   "outputs": [],
   "source": [
    "# arguments\n",
    "def parrot(voltage, state='a stiff', action='voom', type='Norwegian Blue'):\n",
    "    print(\"-- This parrot wouldn't\", action, end=' ')\n",
    "    print(\"if you put\", voltage, \"volts through it.\")\n",
    "    print(\"-- Lovely plumage, the\", type)\n",
    "    print(\"-- It's\", state, \"!\")\n"
   ]
  },
  {
   "cell_type": "code",
   "execution_count": 22,
   "metadata": {},
   "outputs": [],
   "source": [
    "def slicer(*number) :\n",
    "    even_list = []\n",
    "    odd_list = []\n",
    "    for i in number :\n",
    "        if i%2 == 0 :\n",
    "            even_list.append(i)\n",
    "        else :\n",
    "            odd_list.append(i)\n",
    "    print(\"even list : \", even_list)\n",
    "    print(\"odd list : \", odd_list)"
   ]
  },
  {
   "cell_type": "code",
   "execution_count": 23,
   "metadata": {},
   "outputs": [
    {
     "name": "stdout",
     "output_type": "stream",
     "text": [
      "even list :  [2, 4, 6, 8]\n",
      "odd list :  [1, 3, 5, 7, 9]\n"
     ]
    }
   ],
   "source": [
    "slicer(1, 2, 3, 4, 5, 6, 7, 8, 9)"
   ]
  },
  {
   "cell_type": "code",
   "execution_count": 27,
   "metadata": {},
   "outputs": [],
   "source": [
    "# arbitrary arguments\n",
    "def slicer1(*num):\n",
    "    even = [i for i in num if i%2==0]  # list comprehension \n",
    "    odd = [j for j in num if j%2!=0]  # list comprehension\n",
    "    print(\"even list : \", even )\n",
    "    print(\"odd list : \", odd)"
   ]
  },
  {
   "cell_type": "code",
   "execution_count": 28,
   "metadata": {},
   "outputs": [
    {
     "name": "stdout",
     "output_type": "stream",
     "text": [
      "even list :  [2, 4, 6, 8]\n",
      "odd list :  [1, 3, 5, 7, 9]\n"
     ]
    }
   ],
   "source": [
    "slicer1(1, 2, 3, 4, 5, 6, 7, 8, 9)"
   ]
  },
  {
   "cell_type": "code",
   "execution_count": 30,
   "metadata": {},
   "outputs": [],
   "source": [
    "# \n",
    "def organizer(**kwargs):\n",
    "    names = [i for i in kwargs.keys()]\n",
    "    ages = [j for j in kwargs.values()]\n",
    "    print(names)\n",
    "    print(ages)"
   ]
  },
  {
   "cell_type": "code",
   "execution_count": 31,
   "metadata": {},
   "outputs": [
    {
     "name": "stdout",
     "output_type": "stream",
     "text": [
      "['ahmet', 'mehmet']\n",
      "[33, 22]\n"
     ]
    }
   ],
   "source": [
    "organizer(ahmet = 33, mehmet = 22)"
   ]
  },
  {
   "cell_type": "code",
   "execution_count": 33,
   "metadata": {},
   "outputs": [],
   "source": [
    "def organizer1(**kwargs):  # sözlük yapisinda\n",
    "    name = []\n",
    "    ages = []\n",
    "    for key, value in kwargs.items():\n",
    "        name.append(key)\n",
    "        ages.append(value)\n",
    "    print(name)\n",
    "    print(ages)"
   ]
  },
  {
   "cell_type": "code",
   "execution_count": 34,
   "metadata": {},
   "outputs": [
    {
     "name": "stdout",
     "output_type": "stream",
     "text": [
      "['ahmet', 'mehmet']\n",
      "[33, 22]\n"
     ]
    }
   ],
   "source": [
    "organizer1(ahmet = 33, mehmet = 22)"
   ]
  },
  {
   "cell_type": "code",
   "execution_count": 37,
   "metadata": {},
   "outputs": [],
   "source": [
    "# *args and **kwargs def iterable olacak degiskenin sayisi tam biliniyorsa\n",
    "# *degisken olarak da function icin argument kullanilabilir. tek bir degiskeni birde\n",
    "# fazla parametreye atiyoruz.\n",
    "def merger(a, b, c, d):\n",
    "    print(f\"For me, {a} {d} and {c} {b} are geniuses\")\n",
    "    \n",
    "genius = (\"Bill\", \"Rossum\", \"Guido van\", \"Gates\")\n",
    "merger(*genius)"
   ]
  },
  {
   "cell_type": "code",
   "execution_count": 38,
   "metadata": {},
   "outputs": [
    {
     "name": "stdout",
     "output_type": "stream",
     "text": [
      "For me, Bill Gates and Guido van Rossum are geniuses\n"
     ]
    }
   ],
   "source": [
    "genius = (\"Bill\", \"Rossum\", \"Guido van\", \"Gates\")\n",
    "merger(*genius)"
   ]
  },
  {
   "cell_type": "code",
   "execution_count": 51,
   "metadata": {},
   "outputs": [
    {
     "name": "stdout",
     "output_type": "stream",
     "text": [
      "39.33\n",
      "%:.2f 39.333333333333336\n"
     ]
    }
   ],
   "source": [
    "def meaner(ali, veli, burhan) :\n",
    "    avg = (ali + veli + burhan)/3\n",
    "    print(f\"{avg:.2f}\")\n",
    "    print(\"%:.2f\",(avg))  # calismadi\n",
    "friends = {'ali':34,'veli':40, 'burhan':44}  # dict lerde keyler string oluyor\n",
    "meaner(**friends)"
   ]
  },
  {
   "cell_type": "code",
   "execution_count": 52,
   "metadata": {},
   "outputs": [
    {
     "data": {
      "text/plain": [
       "[('marry', 'fred'), ('bella', 'paul'), ('susan', 'bahadir')]"
      ]
     },
     "execution_count": 52,
     "metadata": {},
     "output_type": "execute_result"
    }
   ],
   "source": [
    "def marriage(f, m) :\n",
    "    x_list = []\n",
    "    for x in zip(f, m):\n",
    "        x_list.append(x)\n",
    "    return x_list\n",
    "\n",
    "wedding = {'f':['marry', 'bella', 'susan'], 'm':['fred', 'paul', 'bahadir']}\n",
    "marriage(**wedding)"
   ]
  },
  {
   "cell_type": "code",
   "execution_count": null,
   "metadata": {},
   "outputs": [],
   "source": []
  }
 ],
 "metadata": {
  "kernelspec": {
   "display_name": "Python 3",
   "language": "python",
   "name": "python3"
  },
  "language_info": {
   "codemirror_mode": {
    "name": "ipython",
    "version": 3
   },
   "file_extension": ".py",
   "mimetype": "text/x-python",
   "name": "python",
   "nbconvert_exporter": "python",
   "pygments_lexer": "ipython3",
   "version": "3.7.6"
  }
 },
 "nbformat": 4,
 "nbformat_minor": 4
}
