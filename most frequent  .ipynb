{
 "cells": [
  {
   "cell_type": "code",
   "execution_count": 2,
   "metadata": {},
   "outputs": [
    {
     "name": "stdout",
     "output_type": "stream",
     "text": [
      "True\n"
     ]
    },
    {
     "data": {
      "text/plain": [
       "False"
      ]
     },
     "execution_count": 2,
     "metadata": {},
     "output_type": "execute_result"
    }
   ],
   "source": [
    "tel = {'jack': 4098, 'sape': 4139, 'guido': 4127}\n",
    "print('guido' in tel)\n",
    "'mehmet' in tel"
   ]
  },
  {
   "cell_type": "code",
   "execution_count": 13,
   "metadata": {},
   "outputs": [],
   "source": [
    "numbers = [1, 3, 7, 4, 3, 0, 3, 6, 9]\n",
    "numbers.sort()"
   ]
  },
  {
   "cell_type": "code",
   "execution_count": 14,
   "metadata": {},
   "outputs": [
    {
     "data": {
      "text/plain": [
       "[0, 1, 3, 3, 3, 4, 6, 7, 9]"
      ]
     },
     "execution_count": 14,
     "metadata": {},
     "output_type": "execute_result"
    }
   ],
   "source": [
    "numbers"
   ]
  },
  {
   "cell_type": "code",
   "execution_count": 15,
   "metadata": {},
   "outputs": [
    {
     "data": {
      "text/plain": [
       "1"
      ]
     },
     "execution_count": 15,
     "metadata": {},
     "output_type": "execute_result"
    }
   ],
   "source": [
    "numbers.count(9)"
   ]
  },
  {
   "cell_type": "code",
   "execution_count": 6,
   "metadata": {},
   "outputs": [
    {
     "data": {
      "text/plain": [
       "4"
      ]
     },
     "execution_count": 6,
     "metadata": {},
     "output_type": "execute_result"
    }
   ],
   "source": [
    "numbers.count(3)"
   ]
  },
  {
   "cell_type": "code",
   "execution_count": 7,
   "metadata": {},
   "outputs": [
    {
     "data": {
      "text/plain": [
       "4"
      ]
     },
     "execution_count": 7,
     "metadata": {},
     "output_type": "execute_result"
    }
   ],
   "source": [
    "x = numbers.count(numbers[3])"
   ]
  },
  {
   "cell_type": "code",
   "execution_count": 9,
   "metadata": {},
   "outputs": [
    {
     "data": {
      "text/plain": [
       "0"
      ]
     },
     "execution_count": 9,
     "metadata": {},
     "output_type": "execute_result"
    }
   ],
   "source": [
    "numbers.count(numbers[::])"
   ]
  },
  {
   "cell_type": "code",
   "execution_count": 10,
   "metadata": {},
   "outputs": [
    {
     "name": "stdout",
     "output_type": "stream",
     "text": [
      "1: 2\n",
      "3: 4\n",
      "7: 1\n",
      "4: 2\n",
      "3: 4\n",
      "0: 2\n",
      "3: 4\n",
      "6: 1\n",
      "3: 4\n",
      "4: 2\n",
      "1: 2\n",
      "0: 2\n"
     ]
    }
   ],
   "source": [
    "num = [1, 3, 7, 4, 3, 0, 3, 6, 3, 4, 1, 0]\n",
    "for i in num:\n",
    "    a = num.count(i)\n",
    "    print(str(i)+\": \"+str(a))"
   ]
  },
  {
   "cell_type": "code",
   "execution_count": 37,
   "metadata": {},
   "outputs": [
    {
     "name": "stdout",
     "output_type": "stream",
     "text": [
      "{1: 2, 3: 4, 7: 1, 4: 2, 0: 2, 6: 1}\n"
     ]
    }
   ],
   "source": [
    "num = [1, 3, 7, 4, 3, 0, 3, 6, 3, 4, 1, 0]\n",
    "keys = []\n",
    "values = []\n",
    "sozluk = {}\n",
    "\n",
    "# print(num)\n",
    "for i in num:\n",
    "    a = num.count(i)\n",
    "    # print(str(i)+\": \"+str(a))\n",
    "    # values.insert(i, a)\n",
    "    # keys.insert(i, i)\n",
    "    sozluk[i] = a\n",
    "# print(keys)\n",
    "# print(values)\n",
    "print(sozluk)"
   ]
  },
  {
   "cell_type": "code",
   "execution_count": 52,
   "metadata": {},
   "outputs": [
    {
     "data": {
      "text/plain": [
       "2"
      ]
     },
     "execution_count": 52,
     "metadata": {},
     "output_type": "execute_result"
    }
   ],
   "source": [
    "a = max(list(sozluk.values()))\n",
    "b = sozluk[1]"
   ]
  },
  {
   "cell_type": "code",
   "execution_count": 57,
   "metadata": {},
   "outputs": [
    {
     "name": "stdout",
     "output_type": "stream",
     "text": [
      "[1, 3, 7, 4, 3, 0, 3, 6, 3, 4, 1, 0]\n",
      "1\n",
      "3\n",
      "7\n",
      "4\n",
      "3\n",
      "0\n",
      "3\n",
      "6\n",
      "3\n",
      "4\n",
      "1\n",
      "0\n",
      "[2, 2, 2, 2, 4, 4, 2, 4, 1, 4, 1, 2]\n",
      "[0, 0, 1, 1, 3, 3, 4, 3, 7, 3, 6, 4]\n",
      "{1: 2, 3: 4, 7: 1, 4: 2, 0: 2, 6: 1}\n",
      "{2: 0, 4: 3, 1: 6}\n"
     ]
    }
   ],
   "source": [
    "num = [1, 3, 7, 4, 3, 0, 3, 6, 3, 4, 1, 0]\n",
    "keys = []\n",
    "values = []\n",
    "sozluk = {}\n",
    "sozluk_1 = {}\n",
    "# num.sort()\n",
    "print(num)\n",
    "for i in num:\n",
    "    print(i)\n",
    "    a = num.count(i)\n",
    "    # print(str(i)+\": \"+str(a))\n",
    "    values.insert(i, i)\n",
    "    keys.insert(i, a)\n",
    "    sozluk[i] = a\n",
    "    sozluk_1[a] = i\n",
    "print(keys)\n",
    "print(values)\n",
    "print(sozluk)\n",
    "print(sozluk_1)"
   ]
  },
  {
   "cell_type": "code",
   "execution_count": 69,
   "metadata": {},
   "outputs": [
    {
     "name": "stdout",
     "output_type": "stream",
     "text": [
      "{1: 2, 3: 4, 7: 1, 4: 2, 0: 2, 6: 1}\n",
      "3\n",
      "4\n",
      "[2, 4, 1, 2, 2, 1]\n",
      "The most frequent number is 3 and it was 4 times repeated.\n"
     ]
    }
   ],
   "source": [
    "num = [1, 3, 7, 4, 3, 0, 3, 6, 3, 4, 1, 0]\n",
    "keys = []\n",
    "values = []\n",
    "sozluk = {}\n",
    "for i in num:\n",
    "    a = num.count(i)\n",
    "    sozluk[i] = a\n",
    "print(sozluk)\n",
    "\n",
    "anahtar, deger = list(sozluk.keys()), list(sozluk.values())\n",
    "print(anahtar[deger.index(max(deger))])\n",
    "print(deger[deger.index(max(deger))])\n",
    "print(deger)\n",
    "print(f\"The most frequent number is {anahtar[deger.index(max(deger))]} and it was {max(deger)} times repeated.\")"
   ]
  },
  {
   "cell_type": "code",
   "execution_count": 79,
   "metadata": {},
   "outputs": [
    {
     "name": "stdout",
     "output_type": "stream",
     "text": [
      "<class 'list'>\n"
     ]
    }
   ],
   "source": [
    "print(type([123]))"
   ]
  },
  {
   "cell_type": "code",
   "execution_count": 83,
   "metadata": {},
   "outputs": [
    {
     "name": "stdout",
     "output_type": "stream",
     "text": [
      "('Meghan', 'Tom', 'Nicole', 'Tim')\n",
      "['Meghan', 'Tom', 'Nicole', 'Tim']\n"
     ]
    }
   ],
   "source": [
    "family_members = ['Meghan', 'Tom', 'Nicole', 'Tim']\n",
    "print(tuple(family_members))\n",
    "\n"
   ]
  },
  {
   "cell_type": "code",
   "execution_count": 91,
   "metadata": {},
   "outputs": [
    {
     "name": "stdout",
     "output_type": "stream",
     "text": [
      "the profit will be : 13130\n"
     ]
    }
   ],
   "source": [
    "sales = {\n",
    "  \"cost_value\": 31.87,\n",
    "  \"sell_value\": 45.00,\n",
    "  \"inventory\": 1000\n",
    "}\n",
    "total_profit = (sales[\"sell_value\"] - sales[\"cost_value\"]) * sales[\"inventory\"]\n",
    "print(f\"the profit will be : {round(total_profit)}\")"
   ]
  },
  {
   "cell_type": "code",
   "execution_count": 138,
   "metadata": {},
   "outputs": [
    {
     "name": "stdout",
     "output_type": "stream",
     "text": [
      "Please enter your payroll!4.1\n",
      "$4.10\n"
     ]
    }
   ],
   "source": [
    "payroll = float(input(\"Please enter your payroll!\"))\n",
    "print(f\"${payroll:.2f}\")"
   ]
  },
  {
   "cell_type": "code",
   "execution_count": 96,
   "metadata": {},
   "outputs": [
    {
     "data": {
      "text/plain": [
       "30.0"
      ]
     },
     "execution_count": 96,
     "metadata": {},
     "output_type": "execute_result"
    }
   ],
   "source": [
    "payroll"
   ]
  },
  {
   "cell_type": "code",
   "execution_count": 135,
   "metadata": {},
   "outputs": [
    {
     "name": "stdout",
     "output_type": "stream",
     "text": [
      "Please type a word consisting of only letters from a to z!ali\n",
      "True\n"
     ]
    },
    {
     "data": {
      "text/plain": [
       "{'left_letters': 'uses only left-hand fingers',\n",
       " 'right_letters': 'uses only right-hand fingers',\n",
       " 'comfort_letters': 'uses both hand fingers'}"
      ]
     },
     "execution_count": 135,
     "metadata": {},
     "output_type": "execute_result"
    }
   ],
   "source": [
    "left_hand = set('qwertasdfgzxcvb')\n",
    "right_hand = set('yuiophjklnm')\n",
    "word = set(input(\"Please type a word consisting of only letters from a to z!\"))\n",
    "left_letters = (word & left_hand) != set()\n",
    "right_letters = word.intersection(right_hand) != set()\n",
    "comfort_letters = (left_letters and right_letters)\n",
    "explan = dict(left_letters=\"uses only left-hand fingers\",\\\n",
    "              right_letters=\"uses only right-hand fingers\",\\\n",
    "             comfort_letters=\"uses both hand fingers\")\n",
    "print(comfort_letters)\n",
    "explan"
   ]
  },
  {
   "cell_type": "code",
   "execution_count": 137,
   "metadata": {},
   "outputs": [
    {
     "name": "stdout",
     "output_type": "stream",
     "text": [
      "Please type a word consisting of only letters from a to z!asdfg\n",
      "False\n"
     ]
    }
   ],
   "source": [
    "left_hand = set('qwertasdfgzxcvb')\n",
    "right_hand = set('yuiophjklnm')\n",
    "word = set(input(\"Please type a word consisting of only letters from a to z!\"))\n",
    "left_letters = (word & left_hand) != set()\n",
    "right_letters = word.intersection(right_hand) != set()\n",
    "comfort_letters = (left_letters and right_letters)\n",
    "print(comfort_letters)\n"
   ]
  },
  {
   "cell_type": "code",
   "execution_count": 164,
   "metadata": {},
   "outputs": [
    {
     "name": "stdout",
     "output_type": "stream",
     "text": [
      "The most frequent number is 3 and it was 4 times repeated.\n"
     ]
    }
   ],
   "source": [
    "numbers = [1, 3, 7, 4, 3, 0, 3, 6, 3]\n",
    "frequent = max(numbers, key = numbers.count)\n",
    "print(f\"The most frequent number is {frequent} and \\\n",
    "it was {numbers.count(frequent)} times repeated.\")\n"
   ]
  },
  {
   "cell_type": "code",
   "execution_count": 160,
   "metadata": {},
   "outputs": [
    {
     "ename": "TypeError",
     "evalue": "count() takes exactly one argument (0 given)",
     "output_type": "error",
     "traceback": [
      "\u001b[1;31m---------------------------------------------------------------------------\u001b[0m",
      "\u001b[1;31mTypeError\u001b[0m                                 Traceback (most recent call last)",
      "\u001b[1;32m<ipython-input-160-8abc24ed42c7>\u001b[0m in \u001b[0;36m<module>\u001b[1;34m\u001b[0m\n\u001b[1;32m----> 1\u001b[1;33m \u001b[0mfreq\u001b[0m \u001b[1;33m=\u001b[0m \u001b[0mmax\u001b[0m\u001b[1;33m(\u001b[0m\u001b[0mnumbers\u001b[0m\u001b[1;33m.\u001b[0m\u001b[0mcount\u001b[0m\u001b[1;33m(\u001b[0m\u001b[1;33m)\u001b[0m\u001b[1;33m)\u001b[0m\u001b[1;33m\u001b[0m\u001b[1;33m\u001b[0m\u001b[0m\n\u001b[0m\u001b[0;32m      2\u001b[0m \u001b[0mfreq\u001b[0m\u001b[1;33m\u001b[0m\u001b[1;33m\u001b[0m\u001b[0m\n",
      "\u001b[1;31mTypeError\u001b[0m: count() takes exactly one argument (0 given)"
     ]
    }
   ],
   "source": [
    "freq = max(numbers.count())\n",
    "freq"
   ]
  },
  {
   "cell_type": "code",
   "execution_count": 153,
   "metadata": {},
   "outputs": [
    {
     "data": {
      "text/plain": [
       "<function list.count(value, /)>"
      ]
     },
     "execution_count": 153,
     "metadata": {},
     "output_type": "execute_result"
    }
   ],
   "source": [
    "numbers = [1, 3, 7, 4, 3, 0, 3, 6, 3]\n",
    "numbers.count"
   ]
  },
  {
   "cell_type": "code",
   "execution_count": null,
   "metadata": {},
   "outputs": [],
   "source": []
  }
 ],
 "metadata": {
  "kernelspec": {
   "display_name": "Python 3",
   "language": "python",
   "name": "python3"
  },
  "language_info": {
   "codemirror_mode": {
    "name": "ipython",
    "version": 3
   },
   "file_extension": ".py",
   "mimetype": "text/x-python",
   "name": "python",
   "nbconvert_exporter": "python",
   "pygments_lexer": "ipython3",
   "version": "3.7.6"
  }
 },
 "nbformat": 4,
 "nbformat_minor": 4
}
