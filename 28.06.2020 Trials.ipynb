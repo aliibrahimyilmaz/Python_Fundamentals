{
 "cells": [
  {
   "cell_type": "code",
   "execution_count": 15,
   "metadata": {},
   "outputs": [
    {
     "name": "stdout",
     "output_type": "stream",
     "text": [
      "[10, 9, 8, 7, 6, 5, 4, 3, 2, 1]\n"
     ]
    }
   ],
   "source": [
    "numbers = list(range(11))\n",
    "my_list = numbers[1:]\n",
    "my_list.sort(reverse = True)\n",
    "print(my_list)"
   ]
  },
  {
   "cell_type": "code",
   "execution_count": 17,
   "metadata": {},
   "outputs": [
    {
     "name": "stdout",
     "output_type": "stream",
     "text": [
      "['eggplant', 'spinach', 'leek']\n"
     ]
    }
   ],
   "source": [
    "grocer = [\"banana\", [\"orange\", [\"apple\", \"eggplant\", \"melon\", \"spinach\", \"cheese\", \"leek\" ], \"water\"], \"mandarin\"]\n",
    "print(grocer[1][1][1::2])"
   ]
  },
  {
   "cell_type": "code",
   "execution_count": 35,
   "metadata": {},
   "outputs": [
    {
     "name": "stdout",
     "output_type": "stream",
     "text": [
      "My two favorite flowers are tulip and rose, two favorite colors are blue and green.\n"
     ]
    }
   ],
   "source": [
    "flowers = [[\"jasmine\", [\"lavender\", \"rose\"], \"tulip\"]]\n",
    "colors = [\"red\", (\"blue\", [\"yellow\", \"green\"]), \"pink\"]\n",
    "text = \"My two favorite flowers are {} and {}, two favorite colors are {} and {}.\"\\\n",
    ".format(flowers[0][2], flowers[0][1][1], colors[1][0], colors[1][1][1])\n",
    "print(text)"
   ]
  },
  {
   "cell_type": "code",
   "execution_count": 36,
   "metadata": {},
   "outputs": [
    {
     "name": "stdout",
     "output_type": "stream",
     "text": [
      "I am 40 years old.\n",
      "\tI have two children.\n",
      "\t\tData Science is my IT domain.\n"
     ]
    }
   ],
   "source": [
    "escapes = [\"\\n\\t\", (\"\\t\", \"\\t\\t\"), [\"\\n\", \"\\n\\t\\t\"]]\n",
    "\n",
    "sentence = \"I am 40 years old.{}I have two children.{}Data Science is my IT domain.\"\\\n",
    ".format(escapes[0], escapes[2][1])\n",
    "\n",
    "print(sentence)"
   ]
  },
  {
   "cell_type": "code",
   "execution_count": null,
   "metadata": {},
   "outputs": [],
   "source": []
  }
 ],
 "metadata": {
  "kernelspec": {
   "display_name": "Python 3",
   "language": "python",
   "name": "python3"
  },
  "language_info": {
   "codemirror_mode": {
    "name": "ipython",
    "version": 3
   },
   "file_extension": ".py",
   "mimetype": "text/x-python",
   "name": "python",
   "nbconvert_exporter": "python",
   "pygments_lexer": "ipython3",
   "version": "3.7.6"
  }
 },
 "nbformat": 4,
 "nbformat_minor": 4
}
