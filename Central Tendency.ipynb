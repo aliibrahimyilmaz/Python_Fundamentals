{
 "cells": [
  {
   "cell_type": "code",
   "execution_count": 1,
   "metadata": {},
   "outputs": [
    {
     "name": "stdout",
     "output_type": "stream",
     "text": [
      "Std:  9.089004345911603\n"
     ]
    }
   ],
   "source": [
    "import numpy as np\n",
    "num = [1, 10, 7, 12, 0, 30, 15, 22, 8, 2]\n",
    "print(\"Std: \", (np.std(num)))"
   ]
  },
  {
   "cell_type": "code",
   "execution_count": 4,
   "metadata": {},
   "outputs": [],
   "source": [
    "num_2 = [8, 10, 4, 24, 8, 3, 10, 3, 40, 7, 6, 12, 4]\n",
    "num_2.sort()"
   ]
  },
  {
   "cell_type": "code",
   "execution_count": 5,
   "metadata": {},
   "outputs": [
    {
     "data": {
      "text/plain": [
       "[3, 3, 4, 4, 6, 7, 8, 8, 10, 10, 12, 24, 40]"
      ]
     },
     "execution_count": 5,
     "metadata": {},
     "output_type": "execute_result"
    }
   ],
   "source": [
    "num_2"
   ]
  },
  {
   "cell_type": "code",
   "execution_count": 6,
   "metadata": {},
   "outputs": [
    {
     "name": "stdout",
     "output_type": "stream",
     "text": [
      "covariance:  [[102.56666667  24.        ]\n",
      " [ 24.           6.8       ]]\n",
      "correlation:  [[1.         0.90876934]\n",
      " [0.90876934 1.        ]]\n"
     ]
    }
   ],
   "source": [
    "temp=[93,84,82,78,98,70]\n",
    "\n",
    "number_of_people=[13,10, 11, 8, 15, 9]\n",
    "\n",
    "print(\"covariance: \", np.cov(temp, number_of_people))\n",
    "\n",
    "print(\"correlation: \", np.corrcoef(temp, number_of_people))"
   ]
  },
  {
   "cell_type": "code",
   "execution_count": null,
   "metadata": {},
   "outputs": [],
   "source": []
  }
 ],
 "metadata": {
  "kernelspec": {
   "display_name": "Python 3",
   "language": "python",
   "name": "python3"
  },
  "language_info": {
   "codemirror_mode": {
    "name": "ipython",
    "version": 3
   },
   "file_extension": ".py",
   "mimetype": "text/x-python",
   "name": "python",
   "nbconvert_exporter": "python",
   "pygments_lexer": "ipython3",
   "version": "3.7.6"
  }
 },
 "nbformat": 4,
 "nbformat_minor": 4
}
