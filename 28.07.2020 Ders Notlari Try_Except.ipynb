{
 "cells": [
  {
   "cell_type": "code",
   "execution_count": null,
   "metadata": {},
   "outputs": [],
   "source": [
    "fruits = [\"banana\", \"mango\", \"pear\", \"apple\", \"kiwi\", \"grape\"]"
   ]
  },
  {
   "cell_type": "code",
   "execution_count": null,
   "metadata": {},
   "outputs": [],
   "source": [
    "while True:\n",
    "    try:\n",
    "        index = int(input(\"which fruit do you like most? Enter an index number from fruits basket:\"))\n",
    "        print(\"My favorite fruit is\", fruits[index])\n",
    "        break\n",
    "    except IndexError:\n",
    "        print(\"There is no such an index. Try again\")\n",
    "    except ValueError:\n",
    "        print(\"Please enter integer number and try again\")\n",
    "    else:\n",
    "        print(\"Congrats! You have entered a valid input.\")\n",
    "    finally:\n",
    "        print(\"Our fruits are always fresh!\")\n",
    "    "
   ]
  },
  {
   "cell_type": "code",
   "execution_count": 13,
   "metadata": {},
   "outputs": [
    {
     "name": "stdout",
     "output_type": "stream",
     "text": [
      "which fruit do you like most? Enter an index number from fruits basket:3\n",
      "My favorite fruit is apple\n",
      "Congrats! You have entered a valid input.\n",
      "Our fruits are always fresh!\n"
     ]
    }
   ],
   "source": [
    "fruits = [\"banana\", \"mango\", \"pear\", \"apple\", \"kiwi\", \"grape\"]\n",
    "count = 3\n",
    "while count > 0:\n",
    "    try:\n",
    "        index = int(input(\"which fruit do you like most? Enter an index number from fruits basket:\"))\n",
    "        print(\"My favorite fruit is\", fruits[index])\n",
    "    \n",
    "    except IndexError:\n",
    "        print(\"There is no such an index. Try again\")\n",
    "        count -= 1\n",
    "        print(f\"{count} trials left!\")\n",
    "        if count == 0 :\n",
    "            print(\"You have no more trial!\")\n",
    "    \n",
    "    except ValueError:\n",
    "        print(\"Value you entered is not valid. Try again\")\n",
    "        count -= 1\n",
    "        print(f\"{count} trials left!\")\n",
    "        if count == 0 :\n",
    "            print(\"You have no more trial!\")\n",
    "    \n",
    "    else:\n",
    "        print(\"Congrats! You have entered a valid input.\")\n",
    "        break\n",
    "    finally:\n",
    "        print(\"Our fruits are always fresh!\")"
   ]
  },
  {
   "cell_type": "code",
   "execution_count": 5,
   "metadata": {},
   "outputs": [
    {
     "data": {
      "text/plain": [
       "['b', 'c', 'e', 'f']"
      ]
     },
     "execution_count": 5,
     "metadata": {},
     "output_type": "execute_result"
    }
   ],
   "source": [
    "xx = {\"e\" : 4, \"b\" : 2, \"c\" : 3, \"f\" : 1}\n",
    "sorted(xx)"
   ]
  },
  {
   "cell_type": "code",
   "execution_count": 11,
   "metadata": {},
   "outputs": [
    {
     "data": {
      "text/plain": [
       "[('f', 1), ('b', 2), ('c', 3), ('e', 4)]"
      ]
     },
     "execution_count": 11,
     "metadata": {},
     "output_type": "execute_result"
    }
   ],
   "source": [
    "sorted(xx.items(), key = lambda x : x[1])  # key soldaki elemani alip icindeki fonksiyona sokar"
   ]
  },
  {
   "cell_type": "code",
   "execution_count": 14,
   "metadata": {},
   "outputs": [
    {
     "data": {
      "text/plain": [
       "25"
      ]
     },
     "execution_count": 14,
     "metadata": {},
     "output_type": "execute_result"
    }
   ],
   "source": [
    "my_list = [1, 2, 3, 4, 5]\n",
    "max(x**2 for x in my_list)"
   ]
  },
  {
   "cell_type": "code",
   "execution_count": 15,
   "metadata": {},
   "outputs": [
    {
     "data": {
      "text/plain": [
       "[1, 2, 3, 'a']"
      ]
     },
     "execution_count": 15,
     "metadata": {},
     "output_type": "execute_result"
    }
   ],
   "source": [
    "eski = [1, 2, 3]\n",
    "yeni = eski\n",
    "yeni.append(\"a\")\n",
    "yeni"
   ]
  },
  {
   "cell_type": "code",
   "execution_count": 17,
   "metadata": {},
   "outputs": [
    {
     "data": {
      "text/plain": [
       "[1, 2, 3, 'a']"
      ]
     },
     "execution_count": 17,
     "metadata": {},
     "output_type": "execute_result"
    }
   ],
   "source": [
    "eski  # ayni referanstan cagrildigi icin eski de yenideki degisikliklerden etkilaniyor."
   ]
  },
  {
   "cell_type": "code",
   "execution_count": 18,
   "metadata": {},
   "outputs": [],
   "source": [
    "eskim = [0, 1, 2, 3, 4, \"kedi\"]"
   ]
  },
  {
   "cell_type": "code",
   "execution_count": 19,
   "metadata": {},
   "outputs": [],
   "source": [
    "yenim = eskim.copy()  # referansi ayirir eskim[:] da copy ile ayni islevi görur"
   ]
  },
  {
   "cell_type": "code",
   "execution_count": 22,
   "metadata": {},
   "outputs": [],
   "source": [
    "yenim.append(7)"
   ]
  },
  {
   "cell_type": "code",
   "execution_count": 23,
   "metadata": {},
   "outputs": [
    {
     "data": {
      "text/plain": [
       "[0, 1, 2, 3, 4, 'kedi']"
      ]
     },
     "execution_count": 23,
     "metadata": {},
     "output_type": "execute_result"
    }
   ],
   "source": [
    "eskim"
   ]
  },
  {
   "cell_type": "code",
   "execution_count": 24,
   "metadata": {},
   "outputs": [
    {
     "data": {
      "text/plain": [
       "[0, 1, 2, 3, 4, 'kedi', 7]"
      ]
     },
     "execution_count": 24,
     "metadata": {},
     "output_type": "execute_result"
    }
   ],
   "source": [
    "yenim"
   ]
  },
  {
   "cell_type": "code",
   "execution_count": 25,
   "metadata": {},
   "outputs": [],
   "source": [
    "diller = [\"fransizca\", \"ingilizce\", \"flemenkce\"]\n",
    "diller2 = [\"ispanyolca\", \"arapca\"]"
   ]
  },
  {
   "cell_type": "code",
   "execution_count": 27,
   "metadata": {},
   "outputs": [
    {
     "data": {
      "text/plain": [
       "['fransizca', 'ingilizce', 'flemenkce', 'ispanyolca', 'arapca']"
      ]
     },
     "execution_count": 27,
     "metadata": {},
     "output_type": "execute_result"
    }
   ],
   "source": [
    "diller + diller2  # birlerine ekliyoruz"
   ]
  },
  {
   "cell_type": "code",
   "execution_count": 29,
   "metadata": {},
   "outputs": [],
   "source": [
    "diller.extend(diller2)"
   ]
  },
  {
   "cell_type": "code",
   "execution_count": 30,
   "metadata": {},
   "outputs": [
    {
     "data": {
      "text/plain": [
       "['fransizca',\n",
       " 'ingilizce',\n",
       " 'flemenkce',\n",
       " 'ispanyolca',\n",
       " 'arapca',\n",
       " 'ispanyolca',\n",
       " 'arapca']"
      ]
     },
     "execution_count": 30,
     "metadata": {},
     "output_type": "execute_result"
    }
   ],
   "source": [
    "diller"
   ]
  },
  {
   "cell_type": "code",
   "execution_count": 33,
   "metadata": {},
   "outputs": [],
   "source": [
    "dil_tuple = (\"rusca\", \"almanca\")\n",
    "dil_küme = {\"japonca\", \"cince\"}"
   ]
  },
  {
   "cell_type": "code",
   "execution_count": 34,
   "metadata": {},
   "outputs": [],
   "source": [
    "diller.extend(dil_küme)"
   ]
  },
  {
   "cell_type": "code",
   "execution_count": 36,
   "metadata": {},
   "outputs": [
    {
     "data": {
      "text/plain": [
       "['fransizca',\n",
       " 'ingilizce',\n",
       " 'flemenkce',\n",
       " 'ispanyolca',\n",
       " 'arapca',\n",
       " 'ispanyolca',\n",
       " 'arapca',\n",
       " 'cince',\n",
       " 'japonca']"
      ]
     },
     "execution_count": 36,
     "metadata": {},
     "output_type": "execute_result"
    }
   ],
   "source": [
    "diller"
   ]
  },
  {
   "cell_type": "code",
   "execution_count": 38,
   "metadata": {},
   "outputs": [],
   "source": [
    "# recursion algoritmasi\n",
    "def facto(n):\n",
    "    if n == 1 :\n",
    "        return n\n",
    "    else :\n",
    "        return n * facto(n-1)"
   ]
  },
  {
   "cell_type": "code",
   "execution_count": 39,
   "metadata": {},
   "outputs": [
    {
     "data": {
      "text/plain": [
       "120"
      ]
     },
     "execution_count": 39,
     "metadata": {},
     "output_type": "execute_result"
    }
   ],
   "source": [
    "facto(5)"
   ]
  },
  {
   "cell_type": "code",
   "execution_count": null,
   "metadata": {},
   "outputs": [],
   "source": []
  }
 ],
 "metadata": {
  "kernelspec": {
   "display_name": "Python 3",
   "language": "python",
   "name": "python3"
  },
  "language_info": {
   "codemirror_mode": {
    "name": "ipython",
    "version": 3
   },
   "file_extension": ".py",
   "mimetype": "text/x-python",
   "name": "python",
   "nbconvert_exporter": "python",
   "pygments_lexer": "ipython3",
   "version": "3.7.6"
  }
 },
 "nbformat": 4,
 "nbformat_minor": 4
}
