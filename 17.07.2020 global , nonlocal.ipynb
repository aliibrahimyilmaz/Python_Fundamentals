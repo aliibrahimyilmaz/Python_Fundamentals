{
 "cells": [
  {
   "cell_type": "code",
   "execution_count": null,
   "metadata": {},
   "outputs": [],
   "source": [
    "count = 1\n",
    "\n",
    "def print_global():\n",
    "    print(count)\n",
    " \n",
    "print_global()\n",
    " \n",
    "def counter():\n",
    "    count = 0\n",
    "    print(count)\n",
    "    count += 1  # we're trying to change its value\n",
    "    print(count)\n",
    " \n",
    "print(count)  # just empty line\n",
    "counter()\n",
    "print(count)\n",
    "counter()"
   ]
  },
  {
   "cell_type": "code",
   "execution_count": null,
   "metadata": {},
   "outputs": [],
   "source": [
    "count = 1\n",
    "\n",
    "def counter():\n",
    "    global count  # we've changed its scope\n",
    "    print(count)  # it's global anymore\n",
    "    count += 1\n",
    " \n",
    "counter() \n",
    "counter()\n",
    "counter()\n",
    "print(count)"
   ]
  },
  {
   "cell_type": "code",
   "execution_count": null,
   "metadata": {},
   "outputs": [],
   "source": [
    "def func_enclosing1():\n",
    "    x = 'outer variable'\n",
    "    def func_enclosing2():\n",
    "        x = 'inner variable'\n",
    "        print(\"inner:\", x)\n",
    "    func_enclosing2()\n",
    "    print(\"outer:\", x)\n",
    "\n",
    "func_enclosing1()"
   ]
  },
  {
   "cell_type": "code",
   "execution_count": null,
   "metadata": {},
   "outputs": [],
   "source": [
    "def enclosing_func1():\n",
    "    x = 'outer variable'\n",
    "    def enclosing_func2():\n",
    "        nonlocal x  # its inner-value can be used in the outer scope\n",
    "        x = 'inner variable'\n",
    "        print(\"inner:\", x)\n",
    "    enclosing_func2()\n",
    "    print(\"outer:\", x)\n",
    "\n",
    "enclosing_func1() "
   ]
  },
  {
   "cell_type": "code",
   "execution_count": 4,
   "metadata": {},
   "outputs": [
    {
     "name": "stdout",
     "output_type": "stream",
     "text": [
      "2\n"
     ]
    }
   ],
   "source": [
    "arti = 1\n",
    "def counter():\n",
    "    global arti\n",
    "    arti += 1\n",
    "    print(arti)  \n",
    "\n",
    "counter()"
   ]
  },
  {
   "cell_type": "code",
   "execution_count": 12,
   "metadata": {},
   "outputs": [
    {
     "name": "stdout",
     "output_type": "stream",
     "text": [
      "hi\n"
     ]
    }
   ],
   "source": [
    "def myfunc1():\n",
    "  x = \"hi\"\n",
    "  def myfunc2():\n",
    "    #global x\n",
    "    x = \"hello\"\n",
    "  myfunc2() \n",
    "  return x\n",
    "\n",
    "print(myfunc1())"
   ]
  },
  {
   "cell_type": "code",
   "execution_count": 10,
   "metadata": {},
   "outputs": [
    {
     "name": "stdout",
     "output_type": "stream",
     "text": [
      "hello\n"
     ]
    }
   ],
   "source": [
    "def myfunc1():\n",
    "  x = \"hi\"\n",
    "  def myfunc2():\n",
    "    nonlocal x\n",
    "    x = \"hello\"\n",
    "  myfunc2() \n",
    "  return x\n",
    "\n",
    "print(myfunc1())"
   ]
  },
  {
   "cell_type": "code",
   "execution_count": null,
   "metadata": {},
   "outputs": [],
   "source": []
  }
 ],
 "metadata": {
  "kernelspec": {
   "display_name": "Python 3",
   "language": "python",
   "name": "python3"
  },
  "language_info": {
   "codemirror_mode": {
    "name": "ipython",
    "version": 3
   },
   "file_extension": ".py",
   "mimetype": "text/x-python",
   "name": "python",
   "nbconvert_exporter": "python",
   "pygments_lexer": "ipython3",
   "version": "3.7.6"
  }
 },
 "nbformat": 4,
 "nbformat_minor": 4
}
