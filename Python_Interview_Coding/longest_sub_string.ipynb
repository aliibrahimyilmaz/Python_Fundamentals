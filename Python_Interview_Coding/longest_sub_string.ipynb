{
 "cells": [
  {
   "cell_type": "markdown",
   "metadata": {},
   "source": [
    "Problem: Longest Substring\n",
    "\n",
    "This problem was recently asked by Microsoft:\n",
    "\n",
    "Given a string, find the length of the longest substring without repeating characters.\n",
    "\n",
    "input: 'abrkaabcdefghijjxxx'\n",
    "\n",
    "output: 'abcdefghij', length:10"
   ]
  },
  {
   "cell_type": "code",
   "execution_count": 41,
   "metadata": {},
   "outputs": [
    {
     "name": "stdout",
     "output_type": "stream",
     "text": [
      "10 ['a', 'b', 'c', 'd', 'e', 'f', 'g', 'h', 'i', 'j']\n"
     ]
    }
   ],
   "source": [
    "class Solution:\n",
    "    def lengthOfLongestSubstring(s):\n",
    "        a = []\n",
    "        count = 1\n",
    "        for i in s:\n",
    "            b = [i]\n",
    "            for j in s[count:]:\n",
    "                if j not in b:\n",
    "                    b.append(j)\n",
    "                else:\n",
    "                    a.append(b)\n",
    "                    break\n",
    "            count += 1\n",
    "\n",
    "        max_length = [len(k) for k in a]\n",
    "        sub_dict =dict(zip(max_length, a))\n",
    "        print(max(sub_dict), sub_dict[max(sub_dict)])\n",
    "       \n",
    "Solution.lengthOfLongestSubstring('abrkaabcdefghijjxxx')"
   ]
  },
  {
   "cell_type": "code",
   "execution_count": 1,
   "metadata": {},
   "outputs": [
    {
     "name": "stdout",
     "output_type": "stream",
     "text": [
      "10 abcdefghij\n"
     ]
    }
   ],
   "source": [
    "def lengthOfLongestSubstring(s):\n",
    "    a = []\n",
    "    count = 1\n",
    "    for i in s:\n",
    "        b = [i]\n",
    "        for j in s[count:]:\n",
    "            if j not in b:\n",
    "                b.append(j)\n",
    "            else:\n",
    "                a.append(b)\n",
    "                break\n",
    "        count += 1\n",
    "    \n",
    "    max_length = [len(k) for k in a]\n",
    "    sub_dict =dict(zip(max_length, a))\n",
    "    print(max(sub_dict), \"\".join(sub_dict[max(sub_dict)]))\n",
    "    \n",
    "lengthOfLongestSubstring('abrkaabcdefghijjxxx')"
   ]
  },
  {
   "cell_type": "code",
   "execution_count": null,
   "metadata": {},
   "outputs": [],
   "source": [
    "# a = [x + 1 if x >= 45 else x + 5 for x in l]"
   ]
  },
  {
   "cell_type": "code",
   "execution_count": 1,
   "metadata": {},
   "outputs": [
    {
     "name": "stdout",
     "output_type": "stream",
     "text": [
      "micros 6\n"
     ]
    }
   ],
   "source": [
    "input= 'microsoft'\n",
    "y = {}\n",
    "for i in range(len(input)):\n",
    "    counter = 0\n",
    "    a = \"\"\n",
    "    for i in range(len(input)):\n",
    "        if input[counter] not in a:\n",
    "            a = a + input[counter]\n",
    "            counter += 1\n",
    "    y[a] = len(a)\n",
    "    input = input[len(a):]\n",
    "b = max(y.keys(), key= lambda k: y[k])\n",
    "print(b, len(b))"
   ]
  },
  {
   "cell_type": "code",
   "execution_count": null,
   "metadata": {},
   "outputs": [],
   "source": []
  }
 ],
 "metadata": {
  "kernelspec": {
   "display_name": "Python 3",
   "language": "python",
   "name": "python3"
  },
  "language_info": {
   "codemirror_mode": {
    "name": "ipython",
    "version": 3
   },
   "file_extension": ".py",
   "mimetype": "text/x-python",
   "name": "python",
   "nbconvert_exporter": "python",
   "pygments_lexer": "ipython3",
   "version": "3.8.1"
  }
 },
 "nbformat": 4,
 "nbformat_minor": 4
}
